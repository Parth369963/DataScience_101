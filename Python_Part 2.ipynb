{
 "cells": [
  {
   "cell_type": "markdown",
   "id": "1a4ae760",
   "metadata": {},
   "source": [
    "## Functions\n",
    "\n",
    "-Function will be one of the main building block when constructing larger and larger amount of code to solve problems\n",
    "\n",
    "-A Function groups a set of statements together to run the statements more than once. It allows to specify parameters that can serve as inputs to the functions.\n",
    "\n",
    "-Funtions allow to resuse the code instead of writing the code again and again. If recall strings and lists. remember that len() function is used to find the lenght of string.\n",
    "\n",
    "-Functions is one of the most basic levels of reusing code in python, and it will allow to start thinking of program design."
   ]
  },
  {
   "cell_type": "markdown",
   "id": "aa025740",
   "metadata": {},
   "source": [
    "# def Statements\n",
    "\n",
    "Building a function and the syntax in python\n",
    "\n",
    "The syntax for def statements will be in the follwing form:"
   ]
  },
  {
   "cell_type": "code",
   "execution_count": null,
   "id": "64a60d4f",
   "metadata": {},
   "outputs": [],
   "source": [
    "# def name_of_function(arg1,arg2):\n",
    "''''\n",
    "This is where the functions document string (doc-string) goes\n",
    "''''"
   ]
  },
  {
   "cell_type": "markdown",
   "id": "c556843d",
   "metadata": {},
   "source": [
    "# def  \n",
    "The def then a space followed by the name of the function. Try to keep names relevant and simple as possible, for example, len() is a good name for a length() function. Also be careful with names, you wouldn't want to call a function the same name as built-in funtions in python (such as len).\n",
    "\n",
    "Next, comes the number of arguments separated by a comma within a pait of parenthesis (),[],{} which acts as input to defined function, reference them and the function definition with a colon :"
   ]
  },
  {
   "cell_type": "markdown",
   "id": "1f1dc1a0",
   "metadata": {},
   "source": [
    "# Example 1: A simple print 'Hello' function #"
   ]
  },
  {
   "cell_type": "code",
   "execution_count": null,
   "id": "c3538743",
   "metadata": {},
   "outputs": [],
   "source": [
    "# function will appear when you call it not when you define it"
   ]
  },
  {
   "cell_type": "code",
   "execution_count": 12,
   "id": "c44319b0",
   "metadata": {},
   "outputs": [],
   "source": [
    "def Say_Hello():\n",
    "    \n",
    "    print('This is just a sample')"
   ]
  },
  {
   "cell_type": "code",
   "execution_count": 13,
   "id": "5d06a75c",
   "metadata": {},
   "outputs": [
    {
     "name": "stdout",
     "output_type": "stream",
     "text": [
      "This is just a sample\n"
     ]
    }
   ],
   "source": [
    "Say_Hello()"
   ]
  },
  {
   "cell_type": "markdown",
   "id": "98f02dd9",
   "metadata": {},
   "source": [
    "# Example 2: A simple greeting function"
   ]
  },
  {
   "cell_type": "code",
   "execution_count": 21,
   "id": "3e8e4ad7",
   "metadata": {},
   "outputs": [],
   "source": [
    "def greeting(name):\n",
    "    \n",
    "    print('Hello', name * 3)"
   ]
  },
  {
   "cell_type": "code",
   "execution_count": 24,
   "id": "1263c0c7",
   "metadata": {},
   "outputs": [
    {
     "name": "stdout",
     "output_type": "stream",
     "text": [
      "Hello  Good Morning Good Morning Good Morning\n"
     ]
    }
   ],
   "source": [
    "greeting(' Good Morning')"
   ]
  },
  {
   "cell_type": "markdown",
   "id": "3d607959",
   "metadata": {},
   "source": [
    "# #Return\n",
    "*Return allows a function to 'return' a result that can then be stored as a variable, or used in whatever manner a user wants."
   ]
  },
  {
   "cell_type": "code",
   "execution_count": 7,
   "id": "05579e70",
   "metadata": {},
   "outputs": [],
   "source": [
    "#example of not using return\n",
    "\n",
    "def salary_increment(fixed_salary,house_rent):\n",
    "    total_sal = (fixed_salary + house_rent)\n",
    "    \n",
    "    if total_sal <= 10000:\n",
    "        total_sal + 1000\n",
    "        \n",
    "    else:\n",
    "        total_sal"
   ]
  },
  {
   "cell_type": "code",
   "execution_count": 8,
   "id": "b736b226",
   "metadata": {},
   "outputs": [
    {
     "name": "stdout",
     "output_type": "stream",
     "text": [
      "Your New Salary =  None\n"
     ]
    }
   ],
   "source": [
    "print('Your New Salary = ',salary_increment(8000,2000))"
   ]
  },
  {
   "cell_type": "code",
   "execution_count": 9,
   "id": "04630ead",
   "metadata": {},
   "outputs": [],
   "source": [
    "#example of using return function\n",
    "\n",
    "def salary_increment(fixed_salary,house_rent):\n",
    "    total_sal = (fixed_salary + house_rent)\n",
    "    \n",
    "    if total_sal <= 10000:\n",
    "        return total_sal + 1000\n",
    "        \n",
    "    else:\n",
    "        return total_sal"
   ]
  },
  {
   "cell_type": "code",
   "execution_count": 10,
   "id": "0e289945",
   "metadata": {},
   "outputs": [
    {
     "name": "stdout",
     "output_type": "stream",
     "text": [
      "Your New Salary =  11000\n"
     ]
    }
   ],
   "source": [
    "print('Your New Salary = ',salary_increment(8000,2000))"
   ]
  },
  {
   "cell_type": "markdown",
   "id": "e26c6521",
   "metadata": {},
   "source": [
    "# using a example of a website (https://www.cartrade.com/)\n",
    "\n",
    "creating a program for the website used car price"
   ]
  },
  {
   "cell_type": "code",
   "execution_count": 8,
   "id": "5049a05c",
   "metadata": {},
   "outputs": [],
   "source": [
    "def used_car_price(model_year,car_brand,km_run):\n",
    "    if model_year == 2020:                                   #assigning 2020 as year 2020 for model_year, So fetch data of 2020\n",
    "        if 10000 < km_run <= 15000:                          #if km_run is less then 10k & 15k or equal to 15k\n",
    "            if car_brand == 'Honda amaze':\n",
    "                print('Rs 650,000 - Rs 750,000')\n",
    "            elif car_brand == 'Hyundai creta':\n",
    "                print('Rs 850,000 - Rs 950,000')\n",
    "            else:\n",
    "                print('No stock right now, Please visit again in few days')\n",
    "                \n",
    "        elif 15000 < km_run <= 20000:\n",
    "            if car_brand == 'Honda amaze':\n",
    "                print('Rs 550,000 - Rs 650,000')\n",
    "            elif car_brand == 'Hyundai creta':\n",
    "                print('Rs 750,000 - Rs 850,000')\n",
    "            else:\n",
    "                print('No stock right now, Please visit again in few days')\n",
    "        else:\n",
    "            print('No stock available')\n",
    "            \n",
    "    elif model_year == 2021:                                 #assigning 2021 as year 2021 for model_year, so fetch data of 2021\n",
    "        if 10000 < km_run <= 15000:\n",
    "            if car_brand == 'Honda amaze':\n",
    "                print('Rs 850,000 - Rs 950,000')\n",
    "            elif car_brand == 'Hyundai creta':\n",
    "                print('Rs 100,0000 - Rs 105,0000')\n",
    "            else:\n",
    "                print('No stock right now, please visit again in few days')\n",
    "        else:\n",
    "            print('No stock right now, please visit again in few days')\n",
    "    else:\n",
    "        print('we dont keep cars older then 2020')\n",
    "        "
   ]
  },
  {
   "cell_type": "code",
   "execution_count": 35,
   "id": "fc86459f",
   "metadata": {},
   "outputs": [
    {
     "name": "stdout",
     "output_type": "stream",
     "text": [
      "Rs 850,000 - Rs 950,000\n"
     ]
    }
   ],
   "source": [
    "used_car_price(2020,'Hyundai creta',12000)"
   ]
  },
  {
   "cell_type": "code",
   "execution_count": 36,
   "id": "edb17230",
   "metadata": {},
   "outputs": [
    {
     "name": "stdout",
     "output_type": "stream",
     "text": [
      "No stock available\n"
     ]
    }
   ],
   "source": [
    "used_car_price(2020,'Hyundai creta',50000)"
   ]
  },
  {
   "cell_type": "code",
   "execution_count": 37,
   "id": "4e3a748e",
   "metadata": {},
   "outputs": [
    {
     "name": "stdout",
     "output_type": "stream",
     "text": [
      "Rs 850,000 - Rs 950,000\n"
     ]
    }
   ],
   "source": [
    "used_car_price(2021,'Honda amaze',15000)"
   ]
  },
  {
   "cell_type": "code",
   "execution_count": 38,
   "id": "d2fb92c6",
   "metadata": {},
   "outputs": [
    {
     "name": "stdout",
     "output_type": "stream",
     "text": [
      "Rs 650,000 - Rs 750,000\n"
     ]
    }
   ],
   "source": [
    "used_car_price(2020,'Honda amaze',12000)"
   ]
  },
  {
   "cell_type": "code",
   "execution_count": 44,
   "id": "dd56d8b2",
   "metadata": {},
   "outputs": [
    {
     "name": "stdout",
     "output_type": "stream",
     "text": [
      "we dont keep cars older then 2020\n"
     ]
    }
   ],
   "source": [
    "used_car_price(2016,'Hyundai creta',12000)"
   ]
  },
  {
   "cell_type": "code",
   "execution_count": 50,
   "id": "131e7e8b",
   "metadata": {},
   "outputs": [],
   "source": [
    "# if you only run or pass 2 arguments out of 3 it will not run\n",
    "#Example below if we dont pass either of the argument it will not work\n",
    "# used_car_price(2020,'Hyundai creta') "
   ]
  },
  {
   "cell_type": "markdown",
   "id": "9cbfb6c2",
   "metadata": {},
   "source": [
    "# #Lambda function"
   ]
  },
  {
   "cell_type": "code",
   "execution_count": 45,
   "id": "19a3bfae",
   "metadata": {},
   "outputs": [
    {
     "data": {
      "text/plain": [
       "<function __main__.<lambda>(arguments)>"
      ]
     },
     "execution_count": 45,
     "metadata": {},
     "output_type": "execute_result"
    }
   ],
   "source": [
    "# lambda is used for simple program\n",
    "\n",
    "lambda arguments : expression                    #this is a lambda syntax"
   ]
  },
  {
   "cell_type": "code",
   "execution_count": 46,
   "id": "2d46b70a",
   "metadata": {},
   "outputs": [
    {
     "name": "stdout",
     "output_type": "stream",
     "text": [
      "50\n"
     ]
    }
   ],
   "source": [
    "example_addition = lambda x : x + 10\n",
    "\n",
    "print(example_addition(40))                       #passing data"
   ]
  },
  {
   "cell_type": "code",
   "execution_count": 48,
   "id": "6f66e5d7",
   "metadata": {},
   "outputs": [
    {
     "name": "stdout",
     "output_type": "stream",
     "text": [
      "18\n"
     ]
    }
   ],
   "source": [
    "example_multiplication = lambda x, y : x * y\n",
    "\n",
    "print(example_multiplication(3,6))          #passing data "
   ]
  },
  {
   "cell_type": "markdown",
   "id": "efc6a39b",
   "metadata": {},
   "source": [
    "# * args and **kwargs\n",
    "\n",
    "*arg takes multiple inputs.\n",
    "** Kwargs take key and value, just like dictionary data"
   ]
  },
  {
   "cell_type": "code",
   "execution_count": 52,
   "id": "e7cf8e0e",
   "metadata": {},
   "outputs": [],
   "source": [
    "#using loop + function + arg below\n",
    "\n",
    "def my_fav(*args):\n",
    "    for i in args:\n",
    "        print ('My arguments: - ', i)"
   ]
  },
  {
   "cell_type": "code",
   "execution_count": 53,
   "id": "1e47e68e",
   "metadata": {},
   "outputs": [
    {
     "name": "stdout",
     "output_type": "stream",
     "text": [
      "My arguments: -  India\n",
      "My arguments: -  25\n",
      "My arguments: -  Vadodara\n",
      "My arguments: -  36.9\n",
      "My arguments: -  369\n"
     ]
    }
   ],
   "source": [
    "my_fav('India', 25, 'Vadodara', 36.9, 369)"
   ]
  },
  {
   "cell_type": "code",
   "execution_count": 14,
   "id": "ab19a55b",
   "metadata": {},
   "outputs": [],
   "source": [
    "# Using key & value in function with **Kwargs\n",
    "# using function + **kwargs + .item() (.item is a funtion of dictionary to use a data with Key, Value)\n",
    "\n",
    "def my_power(**kwargs):\n",
    "    for key,value in kwargs.items():\n",
    "        print (key,'=', value)"
   ]
  },
  {
   "cell_type": "code",
   "execution_count": 15,
   "id": "7ee16b81",
   "metadata": {},
   "outputs": [
    {
     "name": "stdout",
     "output_type": "stream",
     "text": [
      "god = ['Ram', 'Shiva']\n",
      "power = [36, 63]\n"
     ]
    }
   ],
   "source": [
    "my_power(god=['Ram','Shiva'],power =[36,63])"
   ]
  },
  {
   "cell_type": "markdown",
   "id": "b89db2b9",
   "metadata": {},
   "source": [
    "#### Slicing & Indexing few more example - as this is very important"
   ]
  },
  {
   "cell_type": "code",
   "execution_count": 17,
   "id": "846870c5",
   "metadata": {},
   "outputs": [],
   "source": [
    "tp = 'the daisy is crazy'"
   ]
  },
  {
   "cell_type": "code",
   "execution_count": 18,
   "id": "a38c20d7",
   "metadata": {},
   "outputs": [
    {
     "data": {
      "text/plain": [
       "'e'"
      ]
     },
     "execution_count": 18,
     "metadata": {},
     "output_type": "execute_result"
    }
   ],
   "source": [
    "tp[2]"
   ]
  },
  {
   "cell_type": "code",
   "execution_count": 26,
   "id": "bfb7af42",
   "metadata": {},
   "outputs": [
    {
     "data": {
      "text/plain": [
       "'the'"
      ]
     },
     "execution_count": 26,
     "metadata": {},
     "output_type": "execute_result"
    }
   ],
   "source": [
    "tp[:3]"
   ]
  },
  {
   "cell_type": "code",
   "execution_count": 30,
   "id": "98b75047",
   "metadata": {},
   "outputs": [
    {
     "data": {
      "text/plain": [
       "'daisy is'"
      ]
     },
     "execution_count": 30,
     "metadata": {},
     "output_type": "execute_result"
    }
   ],
   "source": [
    "tp[4:-6]"
   ]
  },
  {
   "cell_type": "code",
   "execution_count": 24,
   "id": "28c32836",
   "metadata": {},
   "outputs": [
    {
     "data": {
      "text/plain": [
       "'crazy'"
      ]
     },
     "execution_count": 24,
     "metadata": {},
     "output_type": "execute_result"
    }
   ],
   "source": [
    "tp[-5:]"
   ]
  },
  {
   "cell_type": "code",
   "execution_count": 31,
   "id": "12f86777",
   "metadata": {},
   "outputs": [
    {
     "data": {
      "text/plain": [
       "'tediyi rz'"
      ]
     },
     "execution_count": 31,
     "metadata": {},
     "output_type": "execute_result"
    }
   ],
   "source": [
    "#using step size in indexing & slicing\n",
    "\n",
    "tp[::2]"
   ]
  },
  {
   "cell_type": "code",
   "execution_count": 33,
   "id": "35395bdc",
   "metadata": {},
   "outputs": [
    {
     "data": {
      "text/plain": [
       "'yrsyae'"
      ]
     },
     "execution_count": 33,
     "metadata": {},
     "output_type": "execute_result"
    }
   ],
   "source": [
    "tp[::-3]"
   ]
  },
  {
   "cell_type": "markdown",
   "id": "b795808c",
   "metadata": {},
   "source": [
    "# Map()\n",
    "\n",
    "#### map is a function which will return the result upon iterating over set of elements(tuple,list,etc). It is used when you want to apply a single transformation function to all the iterable elements.\n",
    "\n",
    "#### The map() is a function that takes in two arguments:\n",
    "\n",
    "##### 1. A function\n",
    "##### 2. A sequence iterable.\n",
    "\n",
    "In the form: map(function,sequence)\n",
    "\n",
    "The first argument is the name of a function and the second a sequence (e.g. a list). map() applies the function to all the elements of the sequence. it returns a new list with the elements changed by the function."
   ]
  },
  {
   "cell_type": "code",
   "execution_count": 34,
   "id": "1743b8d1",
   "metadata": {},
   "outputs": [],
   "source": [
    "#example of grace system, passing marks is 34\n",
    "\n",
    "def grace_marks(marks):\n",
    "    if marks == 33:\n",
    "        return (marks + 1)\n",
    "    elif marks == 32:\n",
    "        return (marks + 2)\n",
    "    else:\n",
    "        return marks"
   ]
  },
  {
   "cell_type": "code",
   "execution_count": 35,
   "id": "81e5fe05",
   "metadata": {},
   "outputs": [],
   "source": [
    "score = [50,34,60,33,22,32,70,85]"
   ]
  },
  {
   "cell_type": "code",
   "execution_count": 36,
   "id": "af93c47b",
   "metadata": {},
   "outputs": [
    {
     "name": "stdout",
     "output_type": "stream",
     "text": [
      "[50, 34, 60, 34, 22, 34, 70, 85]\n"
     ]
    }
   ],
   "source": [
    "total_score = list(map(grace_marks,score))\n",
    "\n",
    "print(total_score)"
   ]
  },
  {
   "cell_type": "code",
   "execution_count": 37,
   "id": "571eaa53",
   "metadata": {},
   "outputs": [
    {
     "data": {
      "text/plain": [
       "3"
      ]
     },
     "execution_count": 37,
     "metadata": {},
     "output_type": "execute_result"
    }
   ],
   "source": [
    "#checking count of students who just passed with marks 34, using count function\n",
    "total_score.count(34)"
   ]
  },
  {
   "cell_type": "markdown",
   "id": "d27bc1e6",
   "metadata": {},
   "source": [
    "# filter()\n",
    "\n",
    "#### The function filter(function,list) offers a convenient way to filter out all the elements of an iterable, for which the function returns \"True\".\n",
    "\n",
    "#### The function filter(function(),l) needs a function as its first argument. The function needs to return a Boolean value (either True or False). This function will be applied to every element of the iterable. Only if the function returns \"True\" will the element of the iterable be included in the result.\n",
    "\n",
    "Below are some example:"
   ]
  },
  {
   "cell_type": "code",
   "execution_count": 38,
   "id": "5e28346d",
   "metadata": {},
   "outputs": [],
   "source": [
    "#using filter to filter out the students who have marks less then 34\n",
    "\n",
    "def failed_student(marks):\n",
    "    if marks < 34:\n",
    "        return marks"
   ]
  },
  {
   "cell_type": "code",
   "execution_count": 39,
   "id": "a0d5d39e",
   "metadata": {},
   "outputs": [],
   "source": [
    "score1 = [50,34,60,33,22,32,70,85]"
   ]
  },
  {
   "cell_type": "code",
   "execution_count": 41,
   "id": "c7180ec5",
   "metadata": {},
   "outputs": [
    {
     "data": {
      "text/plain": [
       "[33, 22, 32]"
      ]
     },
     "execution_count": 41,
     "metadata": {},
     "output_type": "execute_result"
    }
   ],
   "source": [
    "failed = list(filter(failed_student,score1))\n",
    "\n",
    "failed"
   ]
  },
  {
   "cell_type": "markdown",
   "id": "f888fc29",
   "metadata": {},
   "source": [
    "## Difference between map and filter\n",
    "\n",
    "#### map accepts all elements in a given list and a function can be applied to it.\n",
    "#### filter accepts all data in a list and runs that through a function to creatr a new list with all elements that returns True in that function."
   ]
  },
  {
   "cell_type": "code",
   "execution_count": 44,
   "id": "f6653e96",
   "metadata": {},
   "outputs": [
    {
     "data": {
      "text/plain": [
       "[False, True, False]"
      ]
     },
     "execution_count": 44,
     "metadata": {},
     "output_type": "execute_result"
    }
   ],
   "source": [
    "#map\n",
    "\n",
    "list(map(lambda num: num%2 == 0, [1,2,3]))    # %2 is called the Modulo Operator, it dividing the left num by right num\n",
    "                                              # %2 is used to pull out odd & even number from list"
   ]
  },
  {
   "cell_type": "code",
   "execution_count": 43,
   "id": "fcc10f55",
   "metadata": {},
   "outputs": [
    {
     "data": {
      "text/plain": [
       "[2]"
      ]
     },
     "execution_count": 43,
     "metadata": {},
     "output_type": "execute_result"
    }
   ],
   "source": [
    "#filter\n",
    "\n",
    "list(filter(lambda num: num%2 == 0, [1,2,3]))"
   ]
  },
  {
   "cell_type": "markdown",
   "id": "34730e89",
   "metadata": {},
   "source": [
    "# Global & Local variable concept\n",
    "\n",
    "### Global variable - is a variable defined outside the function tab. This variable can be used outside as well as inside the function tab.\n",
    "\n",
    "### Local variable - variable defined inside the function. This variable can be used only inside the the function tab."
   ]
  },
  {
   "cell_type": "code",
   "execution_count": 46,
   "id": "8aac85a0",
   "metadata": {},
   "outputs": [
    {
     "name": "stdout",
     "output_type": "stream",
     "text": [
      "print inside the function 45\n"
     ]
    }
   ],
   "source": [
    "# global variable example\n",
    "\n",
    "extra_marks = 10             # we are using the variable & its data above/outside the function so its a global\n",
    "\n",
    "def total_marks_1():\n",
    "    print('print inside the function', 35 + extra_marks)\n",
    "    \n",
    "total_marks_1()"
   ]
  },
  {
   "cell_type": "code",
   "execution_count": 48,
   "id": "f0a70275",
   "metadata": {},
   "outputs": [
    {
     "name": "stdout",
     "output_type": "stream",
     "text": [
      "print outside the function 50\n"
     ]
    }
   ],
   "source": [
    "print('print outside the function', 40 + extra_marks)"
   ]
  },
  {
   "cell_type": "code",
   "execution_count": 49,
   "id": "260a46b0",
   "metadata": {},
   "outputs": [
    {
     "name": "stdout",
     "output_type": "stream",
     "text": [
      "print inside the funtion 45\n"
     ]
    }
   ],
   "source": [
    "# local variable example\n",
    "\n",
    "def total_marks_2():\n",
    "    extra_marks2 = 10        # we are using the variable & its data below/inside the function so its a local\n",
    "    print('print inside the funtion', 35 + extra_marks2)\n",
    "    \n",
    "total_marks_2()"
   ]
  },
  {
   "cell_type": "code",
   "execution_count": 50,
   "id": "2e41974b",
   "metadata": {},
   "outputs": [
    {
     "ename": "NameError",
     "evalue": "name 'extra_marks2' is not defined",
     "output_type": "error",
     "traceback": [
      "\u001b[1;31m---------------------------------------------------------------------------\u001b[0m",
      "\u001b[1;31mNameError\u001b[0m                                 Traceback (most recent call last)",
      "Input \u001b[1;32mIn [50]\u001b[0m, in \u001b[0;36m<cell line: 3>\u001b[1;34m()\u001b[0m\n\u001b[0;32m      1\u001b[0m \u001b[38;5;66;03m# Now if you use the local variable outside it will give a error\u001b[39;00m\n\u001b[1;32m----> 3\u001b[0m \u001b[38;5;28mprint\u001b[39m(\u001b[38;5;124m'\u001b[39m\u001b[38;5;124mprint outside the function\u001b[39m\u001b[38;5;124m'\u001b[39m, \u001b[38;5;241m40\u001b[39m \u001b[38;5;241m+\u001b[39m \u001b[43mextra_marks2\u001b[49m)\n",
      "\u001b[1;31mNameError\u001b[0m: name 'extra_marks2' is not defined"
     ]
    }
   ],
   "source": [
    "# Now if you use the local variable outside it will give a error\n",
    "\n",
    "print('print outside the function', 40 + extra_marks2)"
   ]
  },
  {
   "cell_type": "markdown",
   "id": "4184118e",
   "metadata": {},
   "source": [
    "### How to use a local variable outside the function then?"
   ]
  },
  {
   "cell_type": "code",
   "execution_count": 51,
   "id": "784ad8df",
   "metadata": {},
   "outputs": [
    {
     "name": "stdout",
     "output_type": "stream",
     "text": [
      "Daisy is crazy\n"
     ]
    }
   ],
   "source": [
    "def pet_is():\n",
    "    global daisy36\n",
    "    daisy36 = \"Daisy is crazy\"\n",
    "    print(daisy36)\n",
    "    \n",
    "pet_is()"
   ]
  },
  {
   "cell_type": "code",
   "execution_count": 52,
   "id": "65c3562a",
   "metadata": {},
   "outputs": [
    {
     "name": "stdout",
     "output_type": "stream",
     "text": [
      "Daisy is crazy\n"
     ]
    }
   ],
   "source": [
    "print(daisy36)               # With this method we can use a local variable outside to by using global function"
   ]
  },
  {
   "cell_type": "markdown",
   "id": "c9f0307e",
   "metadata": {},
   "source": [
    "# Input from User/Keyword"
   ]
  },
  {
   "cell_type": "code",
   "execution_count": 11,
   "id": "bc96ab0e",
   "metadata": {},
   "outputs": [
    {
     "name": "stdout",
     "output_type": "stream",
     "text": [
      "Enter your name parth\n",
      "User entered:  parth\n"
     ]
    }
   ],
   "source": [
    "# Program to take input string from the user\n",
    "\n",
    "name = input(\"Enter your name \")       #if we use input method it will show a box to input a data\n",
    "\n",
    "print('User entered: ',name)"
   ]
  },
  {
   "cell_type": "markdown",
   "id": "a42fca63",
   "metadata": {},
   "source": [
    "#### How to make user to enter only integers and strings"
   ]
  },
  {
   "cell_type": "code",
   "execution_count": 5,
   "id": "a9c58731",
   "metadata": {},
   "outputs": [
    {
     "name": "stdout",
     "output_type": "stream",
     "text": [
      "Enter Maths score: 50\n",
      "Enter science score: 45\n",
      "Your total marks  95\n"
     ]
    }
   ],
   "source": [
    "maths = int(input('Enter Maths score: '))\n",
    "\n",
    "science = int(input('Enter science score: '))\n",
    "    \n",
    "total_marks1 = maths + science\n",
    "\n",
    "print('Your total marks ',total_marks1)"
   ]
  },
  {
   "cell_type": "markdown",
   "id": "6294c882",
   "metadata": {},
   "source": [
    "#### How to check or enter letter only "
   ]
  },
  {
   "cell_type": "code",
   "execution_count": 7,
   "id": "170583f3",
   "metadata": {},
   "outputs": [
    {
     "name": "stdout",
     "output_type": "stream",
     "text": [
      "Enter your name = 525\n",
      "Enter only alphabetic characters\n"
     ]
    }
   ],
   "source": [
    "name = input('Enter your name = ')\n",
    "\n",
    "if name.isalpha():                           # .isalpha is used to transcribe only letter not number, .isalpha means is alphabet\n",
    "    print('You Entered = ', name)\n",
    "else:\n",
    "    print('Enter only alphabetic characters')"
   ]
  },
  {
   "cell_type": "markdown",
   "id": "2aab9a8d",
   "metadata": {},
   "source": [
    "### Using input method for used car price checking"
   ]
  },
  {
   "cell_type": "code",
   "execution_count": 12,
   "id": "db6cb692",
   "metadata": {},
   "outputs": [
    {
     "name": "stdout",
     "output_type": "stream",
     "text": [
      "Enter model year - 2020\n",
      "Enter car brand - Honda amaze\n",
      "Enter kilometer is has run - 15000\n",
      "Rs 650,000 - Rs 750,000\n"
     ]
    }
   ],
   "source": [
    "# We can enable fields for user to enter the requirments\n",
    "\n",
    "model_year = int(input('Enter model year - '))\n",
    "car_brand = input('Enter car brand - ')\n",
    "km_run = int(input('Enter kilometer is has run - '))\n",
    "\n",
    "used_car_price(model_year, car_brand, km_run)"
   ]
  },
  {
   "cell_type": "markdown",
   "id": "fbee4f6b",
   "metadata": {},
   "source": [
    "# Errors and Exception Handling\n",
    "\n",
    "This method is useful for handling errors and exceptions in python. for example print('Hello) due to one typing error the code will not run and show syntax error (imagine a code with 1000 of lines) in such cases we use below method\n",
    "\n",
    "### try and except\n",
    "\n",
    "The basic terminology and syntax used to handle errors in python is the try and except statements. The code which can cause an exception to occur is put in the try block and the handling of the exception are the implemented in the except block of code. \n"
   ]
  },
  {
   "cell_type": "markdown",
   "id": "26e7a4c9",
   "metadata": {},
   "source": [
    "#### The syntax form is:\n",
    "\n",
    "try:\n",
    "\n",
    "....You do your operation here\n",
    "\n",
    "except ExceptionI:\n",
    "\n",
    "...If there is ExceptionI, then execute this block.\n",
    "\n",
    "except ExceptionII:\n",
    "\n",
    "...If there is ExceptionII, then execute this block.\n",
    "   \n",
    "\n",
    "else:\n",
    "\n",
    "...If there is no exception then execute this block.\n",
    "\n",
    "\n",
    "Using just except, we can check for any exception: To understand better let's check out a sample code.# "
   ]
  },
  {
   "cell_type": "code",
   "execution_count": 20,
   "id": "6137a93d",
   "metadata": {},
   "outputs": [],
   "source": [
    "# Example\n",
    "\n",
    "marks_1 = 88\n",
    "\n",
    "subject = 'Data Science'\n",
    "\n",
    "marks_2 = 33"
   ]
  },
  {
   "cell_type": "code",
   "execution_count": 26,
   "id": "257104d8",
   "metadata": {},
   "outputs": [
    {
     "name": "stdout",
     "output_type": "stream",
     "text": [
      "You are addind integer to string, make sure both data types are matching\n"
     ]
    }
   ],
   "source": [
    "try:\n",
    "    total = marks_1 + subject      #print (average) you can also return the result here\n",
    "    \n",
    "except TypeError:\n",
    "    print ('You are addind integer to string, make sure both data types are matching')\n",
    "else:                                  # else is a optional sometimes\n",
    "    print ('Total marks - ', total) "
   ]
  },
  {
   "cell_type": "markdown",
   "id": "120fab8d",
   "metadata": {},
   "source": [
    "## Trying this on a real time example \n",
    "\n",
    "Writing a program to insurance car or renew car insurance. Program to accept car number, customer name and mobile number. If user don't provide the details, then system needs to raise Exception saying it is mandatory field/required field.\n",
    "\n",
    "https://www.insurancedekho.com/car-insurance"
   ]
  },
  {
   "cell_type": "code",
   "execution_count": 29,
   "id": "f997bd49",
   "metadata": {},
   "outputs": [
    {
     "name": "stdout",
     "output_type": "stream",
     "text": [
      "Your car number ds-56\n",
      "Your name \n",
      "Your mobile 6587-6975\n",
      "\n",
      " The customer name field is required. \n",
      "\n"
     ]
    }
   ],
   "source": [
    "try:\n",
    "    car_number = input('Your car number ')\n",
    "    your_name = input('Your name ')\n",
    "    your_mobile = input('Your mobile ')\n",
    "                                                    # raise function means to raise a error \n",
    "    if car_number == '':     \n",
    "        raise Exception()\n",
    "    elif your_name == '':\n",
    "        raise Exception()\n",
    "    elif your_mobile == '':\n",
    "        raise Exception()\n",
    "    else:\n",
    "        pass                                                # pass function means to continue the code even if there is a error\n",
    "    \n",
    "except:                                             # except is used to execute what code should run when we have raised a error\n",
    "    # for car number\n",
    "    if car_number == '':\n",
    "        print('\\n The registeration number field is required. \\n')   # \\n means, move to next line\n",
    "        \n",
    "    # for name\n",
    "    if your_name == '':\n",
    "        print('\\n The customer name field is required. \\n')\n",
    "    \n",
    "    # for mobile\n",
    "    if your_mobile == '':\n",
    "        print('The mobile number field is reqired.')\n",
    "        \n",
    "# else part will only execute when there is no issues with try block\n",
    "\n",
    "else:\n",
    "    print('Thanks for all the details')"
   ]
  },
  {
   "cell_type": "markdown",
   "id": "057bcfd3",
   "metadata": {},
   "source": [
    "# finally: block\n",
    "\n",
    "If we dont need to memorize the list of exception type! Now if we want to run code after the exception is occured. This is where we use finally.\n",
    "\n",
    "The finally: Block of code will always be run regardless if there was an exception in the try code block. \n",
    "\n",
    "The syntax is:\n",
    "\n",
    "try:\n",
    "\n",
    "...code block here\n",
    "\n",
    "...Due to any exception, this code may be skipped!\n",
    "\n",
    "finally:\n",
    "\n",
    "...This code block would always be executed."
   ]
  },
  {
   "cell_type": "markdown",
   "id": "f241e8e8",
   "metadata": {},
   "source": [
    "# Concept of a code - example\n",
    "#### Creating a code for entering mobile number.\n",
    "##### But also creating rule in that code:\n",
    "\n",
    "Rule-1: Input should be numerical value\n",
    "\n",
    "Rule-2: Input should be not less then or more then 10 digits\n",
    "\n",
    "Rule-3: Input should not be empty"
   ]
  },
  {
   "cell_type": "code",
   "execution_count": 35,
   "id": "fbac6a42",
   "metadata": {},
   "outputs": [],
   "source": [
    "def mobile_number():\n",
    "    \n",
    "    while True:                         # Taking boolean method to make sure only if below code is true it will execute\n",
    "        try:\n",
    "            value = int(input('Please enter mobile number: '))\n",
    "  # assigning value as string to read it as len function can find len(number of index) of string only.          \n",
    "            if len(str(value)) != 10:         # != means, not is equal to. # == means, is equal to. \n",
    "                print ('Mobile number must be 10 digit')\n",
    "                continue  # continue is used to let the code know to go back to start again & reexcute if condition is not match\n",
    "            \n",
    "            else:\n",
    "                print('Thank You')\n",
    "                break        # break the code if condition is matched\n",
    "            \n",
    "        except:\n",
    "            print('Looks like you did not enter an digit!')\n",
    "            continue"
   ]
  },
  {
   "cell_type": "code",
   "execution_count": 36,
   "id": "dc14a7d0",
   "metadata": {},
   "outputs": [
    {
     "name": "stdout",
     "output_type": "stream",
     "text": [
      "Please enter mobile number: \n",
      "Looks like you did not enter an digit!\n",
      "Please enter mobile number: parth\n",
      "Looks like you did not enter an digit!\n",
      "Please enter mobile number: 975867456\n",
      "Mobile number must be 10 digit\n",
      "Please enter mobile number: 35687968542\n",
      "Mobile number must be 10 digit\n",
      "Please enter mobile number: 2023657981\n",
      "Thank You\n"
     ]
    }
   ],
   "source": [
    "mobile_number()"
   ]
  },
  {
   "cell_type": "markdown",
   "id": "55ae93b2",
   "metadata": {},
   "source": [
    "##### In above example we can see how we use def method (defining a variable) + Boolean + try & except method + input method + continue & break method + using all the main concepts of python we learned earlier."
   ]
  },
  {
   "cell_type": "markdown",
   "id": "3ee66993",
   "metadata": {},
   "source": [
    "# Object Oriented Programming\n",
    "\n",
    " Object Oriented Programmin (OOP) is a programming paradigm that allows abstraction through the concept of interacting entities. This programming works contradictory to conventional model and is procedural, in which programs are organised as a sequence of commands or statements to perform.\n",
    "\n",
    "We can think an object as an entity that resides in memory, has a state and it's able to perform some actions.\n",
    "\n",
    "More formally objects are entities that represent **Instances** of a general abstract concepts called Class. In Python, **\"attributes\"** are variables defining an object state and the possible actions are called **\"method\"**.\n",
    "\n",
    "In Python, everything is an object also classes and functions.\n",
    "\n",
    "**Class** is used to keep related things together"
   ]
  },
  {
   "cell_type": "markdown",
   "id": "69cf158e",
   "metadata": {},
   "source": [
    "### Most important term in Object Oriented Programming (OOP)\n",
    "\n",
    "1. Class\n",
    "2. __init__ (underscoreunderscoreinitunderscoreunderscore)\n",
    "3. self\n",
    "4. Method\n"
   ]
  },
  {
   "cell_type": "markdown",
   "id": "382d8e23",
   "metadata": {},
   "source": [
    "# Creating a class with example of bank login\n",
    "\n",
    "suppose we want to create a class, named person, as a prototype, a sort of template for any number of 'person' object (instances).\n",
    "\n",
    "#### The following python syntax defines a class:\n",
    "\n",
    "    Class ClassName(base_classes):\n",
    "       statements\n",
    "\n",
    "\n",
    "Class names should always be uppercase (it's a naming convention)."
   ]
  },
  {
   "cell_type": "code",
   "execution_count": 1,
   "id": "28fba5f4",
   "metadata": {},
   "outputs": [],
   "source": [
    "class Account:\n",
    "    pass"
   ]
  },
  {
   "cell_type": "markdown",
   "id": "4ce16712",
   "metadata": {},
   "source": [
    "#### __Init__(self,)\n",
    "\n",
    "__init__(self,) will register/initiate details with google\n",
    "\n",
    "self will help you to get your respective details back when you click different tabs."
   ]
  },
  {
   "cell_type": "code",
   "execution_count": null,
   "id": "5e4d26c2",
   "metadata": {},
   "outputs": [],
   "source": [
    "class Account:\n",
    "    def __init__(self,name,last_name,city,user_id,password,phone):         #attributes/ arguments\n",
    "         # Data initialiazation (registering the information in self)\n",
    "        self.name      = name\n",
    "        self.last_name = last_name\n",
    "        self.city      = city\n",
    "        self.user_id   = user_id\n",
    "        self.password  = password\n",
    "        self.phone     = phone\n",
    "        "
   ]
  },
  {
   "cell_type": "markdown",
   "id": "45113e8f",
   "metadata": {},
   "source": [
    "#### \n",
    "In the below example, arguments are being passed to the **init** method to initialize the object. The keyword **self** represents the instance of a class and binds the attributes with the given arguments. In the same way you can create and pass on multiple names as an arguments. You can create multiple methods for different reasons."
   ]
  },
  {
   "cell_type": "code",
   "execution_count": 2,
   "id": "7935d3b0",
   "metadata": {},
   "outputs": [
    {
     "name": "stdout",
     "output_type": "stream",
     "text": [
      "Enter your name = James\n",
      "Enter your last name = Bond\n",
      "Enter city name = London\n",
      "Enter your preferred user id = James007@octopussy.com\n",
      "Chose your password = 007isdumb\n",
      "Enter phone number = 007007007\n"
     ]
    }
   ],
   "source": [
    "class Account:  #This is a class\n",
    "    def __init__(self, name       = input('Enter your name = '),\n",
    "                       last_name  = input('Enter your last name = '),\n",
    "                       city       = input('Enter city name = '),\n",
    "                       user_id    = input('Enter your preferred user id = '),\n",
    "                       password   = input('Chose your password = '),\n",
    "                       phone      = input('Enter phone number = ')):      #attribute/arguments\n",
    "        #Data Initialization\n",
    "        self.name      = name\n",
    "        self.last_name = last_name\n",
    "        self.city      = city\n",
    "        self.user_id   = user_id\n",
    "        self.password  = password\n",
    "        self.phone     = phone\n",
    "        \n",
    "    def login(self):   #Method\n",
    "        while True:\n",
    "            signin = input('Email- ')\n",
    "            password = input('Password- ')\n",
    "            if signin == self.user_id and password == self.password:\n",
    "                print('Successfully logged in')\n",
    "                break\n",
    "            else:\n",
    "                print('User ID or Password s invalid')\n",
    "                continue"
   ]
  },
  {
   "cell_type": "code",
   "execution_count": 3,
   "id": "bb998a20",
   "metadata": {},
   "outputs": [],
   "source": [
    "# instantiating a class and create a object for the class. here bank is an object for class account.\n",
    "\n",
    "Bank = Account()"
   ]
  },
  {
   "cell_type": "code",
   "execution_count": 4,
   "id": "4f5ec8f7",
   "metadata": {},
   "outputs": [
    {
     "name": "stdout",
     "output_type": "stream",
     "text": [
      "Email- James007@austinpowers.com\n",
      "Password- thespywhoshagedme\n",
      "User ID or Password s invalid\n",
      "Email- James007@octopussy.com\n",
      "Password- 007isdumb\n",
      "Successfully logged in\n"
     ]
    }
   ],
   "source": [
    "Bank.login()"
   ]
  },
  {
   "cell_type": "markdown",
   "id": "415b9845",
   "metadata": {},
   "source": [
    "# Inheritance\n",
    "\n",
    "once a class in defined it models a concept. it is useful to extend a class behavior to model a less a general concept. Say we need to copy properties of old account and add new property or attribute and create new version of account."
   ]
  },
  {
   "cell_type": "code",
   "execution_count": 7,
   "id": "9aceed71",
   "metadata": {},
   "outputs": [],
   "source": [
    "class User_Account(Account):\n",
    "\n",
    "    def __init__(self, acc_number,balance, *args):\n",
    "        super(User_Account, self).__init__(*args)\n",
    "        self.acc_number = acc_number\n",
    "        self.balance    = balance\n",
    "\n",
    "    def user_details(self):\n",
    "          while True:\n",
    "            account = int(input('Enter your account number = '))\n",
    "            if account == self.acc_number:\n",
    "                print ('Name = ', self.name)\n",
    "                print ('Acc Num = ', self.acc_number)\n",
    "                print ('Your Balance = ', self.balance)\n",
    "                break\n",
    "            else:\n",
    "                print ('Account number is not valid')\n",
    "                continue\n",
    "                \n",
    "    def deposit(self):\n",
    "        print ('Your previous Balance = ', self.balance)\n",
    "        add_cash = int(input('Deposit Cash = '))\n",
    "        self.balance += add_cash\n",
    "        print ('\\n HDFC Bank Rs ',add_cash,'deposited to your account',self.acc_number,\n",
    "               ' and Your current Balance is ', self.balance)\n",
    "        \n",
    "    def transfer(self):\n",
    "        print ('Your previous Balance = ', self.balance)\n",
    "        \n",
    "        withdraw = int(input('How much you want to transfer = '))\n",
    "        if withdraw <= self.balance:\n",
    "            self.balance -= withdraw\n",
    "            print ('\\n HDFC Bank: Rs ', 'Withdraw from your account ',self.acc_number,\n",
    "' and your current Balance is ', self.balance)\n",
    "                   \n",
    "        else:\n",
    "            print (\"\\n Alert: You Don't have sufficient fund\")"
   ]
  },
  {
   "cell_type": "code",
   "execution_count": 8,
   "id": "e60648a2",
   "metadata": {},
   "outputs": [],
   "source": [
    "bank_details = User_Account(750000,0)   # 750000 is account number & 0 is the Balance"
   ]
  },
  {
   "cell_type": "code",
   "execution_count": 9,
   "id": "dade2f3c",
   "metadata": {},
   "outputs": [
    {
     "name": "stdout",
     "output_type": "stream",
     "text": [
      "Email- James007@octopussy.com\n",
      "Password- 007isdumb\n",
      "Successfully logged in\n"
     ]
    }
   ],
   "source": [
    "# Connect to new object for login\n",
    "\n",
    "bank_details.login()"
   ]
  },
  {
   "cell_type": "code",
   "execution_count": 11,
   "id": "8e1f0ac0",
   "metadata": {},
   "outputs": [
    {
     "name": "stdout",
     "output_type": "stream",
     "text": [
      "Enter your account number = 750000\n",
      "Name =  James\n",
      "Acc Num =  750000\n",
      "Your Balance =  0\n"
     ]
    }
   ],
   "source": [
    "# Checking the personnel details\n",
    "\n",
    "bank_details.user_details()"
   ]
  },
  {
   "cell_type": "code",
   "execution_count": 12,
   "id": "5ff3d2aa",
   "metadata": {},
   "outputs": [
    {
     "name": "stdout",
     "output_type": "stream",
     "text": [
      "Your previous Balance =  0\n",
      "Deposit Cash = 63000\n",
      "\n",
      " HDFC Bank Rs  63000 deposited to your account 750000  and Your current Balance is  63000\n"
     ]
    }
   ],
   "source": [
    "# Cash deposit\n",
    "\n",
    "bank_details.deposit()"
   ]
  },
  {
   "cell_type": "code",
   "execution_count": 14,
   "id": "fbc076a1",
   "metadata": {},
   "outputs": [
    {
     "name": "stdout",
     "output_type": "stream",
     "text": [
      "Your previous Balance =  63000\n",
      "How much you want to transfer = 3900\n",
      "\n",
      " HDFC Bank: Rs  Withdraw from your account  750000  and your current Balance is  59100\n"
     ]
    }
   ],
   "source": [
    "# Cash withdrawal/ transfer\n",
    "\n",
    "bank_details.transfer()"
   ]
  },
  {
   "cell_type": "markdown",
   "id": "e91967b7",
   "metadata": {},
   "source": [
    "#Account is one of the base classes of User_Account and User_Account is one of the sub classes of Account. Be aware that a subclass knows about its superclasses but the converse isn't true.\n",
    "\n",
    "A sub class doesn't only inherits from its base classes, but from its base classes too, forming an inheritance tree that starts from a object (every class base class).\n",
    "\n",
    "       Super(Class, instance)\n",
    "\n",
    "is a function that returns a proxy-object that delegates method calls to a parent or sibling class of type. So we used it to access person's __init__.\n",
    "\n",
    "**super()** gives you access to methods in a superclass from the subclass that inherits from it.\n",
    "\n",
    "super() alone returns a temporary object of the superclass that then allows you to call that superclass's methods.\n",
    "\n",
    "why would you want to do any of this? While the possibilities are limited by your imagination, a common use case is building classes that extend the functionality of previously built classes.\n",
    "\n",
    "calling the previously built methods with super() saves you from needing to rewrite those methods in your subclass, and allows you to swap out superclasses with minimal code changes."
   ]
  },
  {
   "cell_type": "markdown",
   "id": "52f7af45",
   "metadata": {},
   "source": [
    "# Encapsulation\n",
    "\n",
    "Encapsulation is an another powerful way to extend a class which consists on wrapping an object with a second one.\n",
    "\n",
    "Just like Gmail, Gdrive, Google photos are wrapped into one.\n",
    "\n",
    "The abstraction process relies on creating a simplified model that removes useless detials from concepts. In order to be simplified, a model should be described in term of other simpler concepts. For example, we can say that a car is composed by.\n",
    "\n",
    "*Tyres\n",
    "*Engine\n",
    "*Body\n",
    "\n",
    "and break down each one of these elements in simpler part until we reach primitive datad."
   ]
  },
  {
   "cell_type": "code",
   "execution_count": 21,
   "id": "0edd97a5",
   "metadata": {},
   "outputs": [
    {
     "name": "stdout",
     "output_type": "stream",
     "text": [
      "Type: \n",
      " \tBranch: Apollo\n",
      " \tBelted-Bias: True\n",
      " \topt_pressure: 34\n",
      "Engine: \n",
      " \tfuel: Electric\n",
      " \tnoise level: 3.9\n",
      "Body: \n",
      " \tsize: Tesla\n"
     ]
    }
   ],
   "source": [
    "# Example using a car\n",
    "\n",
    "class Tyres:\n",
    "    def __init__(self, branch, belted_bias, opt_pressure):\n",
    "        self.branch = branch\n",
    "        self.belted_bias = belted_bias\n",
    "        self.opt_pressure = opt_pressure\n",
    "        \n",
    "    def __str__(self):          #__str__ can be used if you dont want to define a method name but you want this to execute.\n",
    "        return (\"Type: \\n \\tBranch: \" + self.branch +\n",
    "               \"\\n \\tBelted-Bias: \" + str(self.belted_bias) + \n",
    "               \"\\n \\topt_pressure: \" + str(self.opt_pressure))\n",
    "    \n",
    "class Engine:\n",
    "    \n",
    "    def __init__(self, fuel_type, noise_level):\n",
    "        self.fuel_type = fuel_type\n",
    "        self.noise_level = noise_level\n",
    "        \n",
    "    def __str__(self):\n",
    "        return (\"Engine: \\n \\tfuel: \" + self.fuel_type + \n",
    "                \"\\n \\tnoise level: \" + str(self.noise_level))\n",
    "\n",
    "class Body:\n",
    "    \n",
    "    def __init__(self, size):\n",
    "        self.size = size\n",
    "        \n",
    "    def __str__(self):\n",
    "        return (\"Body: \\n \\tsize: \" + self.size)\n",
    "    \n",
    "class Car:\n",
    "    \n",
    "    def __init__(self, Tyre, Engine, Body):\n",
    "        self.Tyre = Tyre\n",
    "        self.Engine = Engine\n",
    "        self.Body = Body\n",
    "        \n",
    "    def __str__(self):\n",
    "        return str(self.Tyre) + '\\n' + str(self.Engine) + '\\n' + str(self.Body)\n",
    "    \n",
    "A = Tyres('Apollo', True, 34)\n",
    "B = Engine('Electric', 3.9)\n",
    "C = Body('Tesla')\n",
    "\n",
    "D = Car(A, B, C)\n",
    "print(d)"
   ]
  }
 ],
 "metadata": {
  "kernelspec": {
   "display_name": "Python 3 (ipykernel)",
   "language": "python",
   "name": "python3"
  },
  "language_info": {
   "codemirror_mode": {
    "name": "ipython",
    "version": 3
   },
   "file_extension": ".py",
   "mimetype": "text/x-python",
   "name": "python",
   "nbconvert_exporter": "python",
   "pygments_lexer": "ipython3",
   "version": "3.9.12"
  }
 },
 "nbformat": 4,
 "nbformat_minor": 5
}
