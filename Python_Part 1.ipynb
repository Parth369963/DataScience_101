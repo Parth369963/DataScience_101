{
 "cells": [
  {
   "cell_type": "code",
   "execution_count": 1,
   "id": "3a975910",
   "metadata": {
    "scrolled": true
   },
   "outputs": [
    {
     "name": "stdout",
     "output_type": "stream",
     "text": [
      "['False', 'None', 'True', '__peg_parser__', 'and', 'as', 'assert', 'async', 'await', 'break', 'class', 'continue', 'def', 'del', 'elif', 'else', 'except', 'finally', 'for', 'from', 'global', 'if', 'import', 'in', 'is', 'lambda', 'nonlocal', 'not', 'or', 'pass', 'raise', 'return', 'try', 'while', 'with', 'yield']\n"
     ]
    }
   ],
   "source": [
    "import keyword\n",
    "\n",
    "print (keyword.kwlist)"
   ]
  },
  {
   "cell_type": "code",
   "execution_count": 34,
   "id": "3d8a7b5e",
   "metadata": {},
   "outputs": [
    {
     "data": {
      "text/plain": [
       "False"
      ]
     },
     "execution_count": 34,
     "metadata": {},
     "output_type": "execute_result"
    }
   ],
   "source": [
    "# Understanding different boolean and, or, not, is\n",
    "\n",
    "True and False"
   ]
  },
  {
   "cell_type": "code",
   "execution_count": 3,
   "id": "7ecb72d5",
   "metadata": {},
   "outputs": [
    {
     "data": {
      "text/plain": [
       "True"
      ]
     },
     "execution_count": 3,
     "metadata": {},
     "output_type": "execute_result"
    }
   ],
   "source": [
    "True or False"
   ]
  },
  {
   "cell_type": "code",
   "execution_count": 4,
   "id": "ed0fa78a",
   "metadata": {},
   "outputs": [
    {
     "data": {
      "text/plain": [
       "False"
      ]
     },
     "execution_count": 4,
     "metadata": {},
     "output_type": "execute_result"
    }
   ],
   "source": [
    "not True"
   ]
  },
  {
   "cell_type": "code",
   "execution_count": 5,
   "id": "2993154d",
   "metadata": {},
   "outputs": [
    {
     "data": {
      "text/plain": [
       "True"
      ]
     },
     "execution_count": 5,
     "metadata": {},
     "output_type": "execute_result"
    }
   ],
   "source": [
    "True is True"
   ]
  },
  {
   "cell_type": "code",
   "execution_count": 9,
   "id": "6e301759",
   "metadata": {},
   "outputs": [
    {
     "data": {
      "text/plain": [
       "False"
      ]
     },
     "execution_count": 9,
     "metadata": {},
     "output_type": "execute_result"
    }
   ],
   "source": [
    "True is False"
   ]
  },
  {
   "cell_type": "code",
   "execution_count": 11,
   "id": "9bd3bb82",
   "metadata": {},
   "outputs": [
    {
     "data": {
      "text/plain": [
       "2"
      ]
     },
     "execution_count": 11,
     "metadata": {},
     "output_type": "execute_result"
    }
   ],
   "source": [
    "True + True"
   ]
  },
  {
   "cell_type": "code",
   "execution_count": 12,
   "id": "99b9b4a0",
   "metadata": {},
   "outputs": [
    {
     "data": {
      "text/plain": [
       "1"
      ]
     },
     "execution_count": 12,
     "metadata": {},
     "output_type": "execute_result"
    }
   ],
   "source": [
    "True + False"
   ]
  },
  {
   "cell_type": "code",
   "execution_count": 13,
   "id": "04c93ac1",
   "metadata": {},
   "outputs": [
    {
     "data": {
      "text/plain": [
       "0"
      ]
     },
     "execution_count": 13,
     "metadata": {},
     "output_type": "execute_result"
    }
   ],
   "source": [
    "False + False"
   ]
  },
  {
   "cell_type": "code",
   "execution_count": 14,
   "id": "1d239149",
   "metadata": {},
   "outputs": [
    {
     "data": {
      "text/plain": [
       "1"
      ]
     },
     "execution_count": 14,
     "metadata": {},
     "output_type": "execute_result"
    }
   ],
   "source": [
    "True - False"
   ]
  },
  {
   "cell_type": "code",
   "execution_count": 15,
   "id": "259e22c8",
   "metadata": {},
   "outputs": [
    {
     "data": {
      "text/plain": [
       "False"
      ]
     },
     "execution_count": 15,
     "metadata": {},
     "output_type": "execute_result"
    }
   ],
   "source": [
    "8 == 9"
   ]
  },
  {
   "cell_type": "code",
   "execution_count": 16,
   "id": "1666728a",
   "metadata": {},
   "outputs": [
    {
     "data": {
      "text/plain": [
       "True"
      ]
     },
     "execution_count": 16,
     "metadata": {},
     "output_type": "execute_result"
    }
   ],
   "source": [
    "True and False or True"
   ]
  },
  {
   "cell_type": "code",
   "execution_count": 17,
   "id": "f491e0d8",
   "metadata": {},
   "outputs": [
    {
     "data": {
      "text/plain": [
       "False"
      ]
     },
     "execution_count": 17,
     "metadata": {},
     "output_type": "execute_result"
    }
   ],
   "source": [
    "False or True and False"
   ]
  },
  {
   "cell_type": "code",
   "execution_count": 1,
   "id": "251c2cab",
   "metadata": {},
   "outputs": [],
   "source": [
    "# Types of Data\n",
    "# Integer (numerical value) E.g a = 369\n",
    "# Float (numerical value with decimal) E.g a = 36.9\n",
    "# string (word or letter) E.g a = 'parth','p', \"parth makwana\"\n",
    "# Complex (data containing word, letter, number, signs) E.g a = 2.6j"
   ]
  },
  {
   "cell_type": "code",
   "execution_count": 32,
   "id": "daf7f464",
   "metadata": {},
   "outputs": [
    {
     "name": "stdout",
     "output_type": "stream",
     "text": [
      "369\n"
     ]
    },
    {
     "data": {
      "text/plain": [
       "int"
      ]
     },
     "execution_count": 32,
     "metadata": {},
     "output_type": "execute_result"
    }
   ],
   "source": [
    "# assigning variable to data, a is variable and 369 is data\n",
    "\n",
    "a = 369\n",
    "\n",
    "print(a)\n",
    "\n",
    "type(a)"
   ]
  },
  {
   "cell_type": "code",
   "execution_count": 28,
   "id": "445c9e77",
   "metadata": {},
   "outputs": [
    {
     "name": "stdout",
     "output_type": "stream",
     "text": [
      "36.9\n"
     ]
    },
    {
     "data": {
      "text/plain": [
       "float"
      ]
     },
     "execution_count": 28,
     "metadata": {},
     "output_type": "execute_result"
    }
   ],
   "source": [
    "b = 36.9\n",
    "\n",
    "print(b)\n",
    "\n",
    "type(b)"
   ]
  },
  {
   "cell_type": "code",
   "execution_count": 29,
   "id": "62942765",
   "metadata": {},
   "outputs": [
    {
     "name": "stdout",
     "output_type": "stream",
     "text": [
      "18\n"
     ]
    }
   ],
   "source": [
    "a = 3\n",
    "b = 6\n",
    "c = 9\n",
    "\n",
    "d = a + b + c\n",
    "print (d)"
   ]
  },
  {
   "cell_type": "code",
   "execution_count": 30,
   "id": "dc6f7101",
   "metadata": {},
   "outputs": [
    {
     "name": "stdout",
     "output_type": "stream",
     "text": [
      "180\n"
     ]
    }
   ],
   "source": [
    "print (d * 10)"
   ]
  },
  {
   "cell_type": "code",
   "execution_count": 36,
   "id": "551399f5",
   "metadata": {},
   "outputs": [],
   "source": [
    "# String: Anything inside the string is considered as string either is number, word or even a space \n",
    "# E.g '', \"\"\n",
    "# E.g 'parth'"
   ]
  },
  {
   "cell_type": "code",
   "execution_count": 2,
   "id": "0c4af364",
   "metadata": {},
   "outputs": [
    {
     "name": "stdout",
     "output_type": "stream",
     "text": [
      "python is a powerful language\n"
     ]
    }
   ],
   "source": [
    "first_string = 'python'\n",
    "second_string = ' is a powerful'\n",
    "third_string = ' language'\n",
    "\n",
    "print (first_string + second_string + third_string)\n",
    "\n",
    "# use + or , to join strings"
   ]
  },
  {
   "cell_type": "code",
   "execution_count": 3,
   "id": "d8e144ae",
   "metadata": {},
   "outputs": [
    {
     "name": "stdout",
     "output_type": "stream",
     "text": [
      "Daisy Daisy Daisy \n"
     ]
    }
   ],
   "source": [
    "#To print something multiple time use\n",
    "\n",
    "print ('Daisy ' * 3)"
   ]
  },
  {
   "cell_type": "code",
   "execution_count": 5,
   "id": "a989686b",
   "metadata": {},
   "outputs": [
    {
     "name": "stdout",
     "output_type": "stream",
     "text": [
      "$ $ $ $ $ $ $ $ $ $ $ $ $ $ $ $ $ $ $ $ \n"
     ]
    }
   ],
   "source": [
    "print ('$ ' * 20)"
   ]
  },
  {
   "cell_type": "code",
   "execution_count": 6,
   "id": "81a5b43e",
   "metadata": {},
   "outputs": [
    {
     "name": "stdout",
     "output_type": "stream",
     "text": [
      "fantastic 4\n"
     ]
    }
   ],
   "source": [
    "# printing string with int by adding\n",
    "\n",
    "print ('fantastic ' + str(4))"
   ]
  },
  {
   "cell_type": "markdown",
   "id": "8b0a92c3",
   "metadata": {},
   "source": [
    "## TYPES OF STRUCTURE"
   ]
  },
  {
   "cell_type": "code",
   "execution_count": null,
   "id": "85b087a9",
   "metadata": {},
   "outputs": [],
   "source": [
    "# Types of Structure\n",
    "# List\n",
    "# Tuple\n",
    "# Set\n",
    "# Dictionary"
   ]
  },
  {
   "cell_type": "markdown",
   "id": "bff97b87",
   "metadata": {},
   "source": [
    "## List (Data structure/container) ; '[ ]' "
   ]
  },
  {
   "cell_type": "code",
   "execution_count": null,
   "id": "6bd88608",
   "metadata": {},
   "outputs": [],
   "source": [
    "# List: a = [1,2,3,4,6.3,'parth'] , it accepts all type of data, it is mutable (edit, delete, add, insert, remove)"
   ]
  },
  {
   "cell_type": "code",
   "execution_count": 9,
   "id": "44f1f85c",
   "metadata": {},
   "outputs": [
    {
     "data": {
      "text/plain": [
       "['parth', 'age', 25]"
      ]
     },
     "execution_count": 9,
     "metadata": {},
     "output_type": "execute_result"
    }
   ],
   "source": [
    "# How to copy list into other list\n",
    "\n",
    "a = ['parth', 'age', 25]\n",
    "\n",
    "b = list(a)\n",
    "b"
   ]
  },
  {
   "cell_type": "code",
   "execution_count": 1,
   "id": "f94e8c79",
   "metadata": {},
   "outputs": [
    {
     "data": {
      "text/plain": [
       "[20, 30, 45, 56, 86]"
      ]
     },
     "execution_count": 1,
     "metadata": {},
     "output_type": "execute_result"
    }
   ],
   "source": [
    "marks = [20,30,45,56,86]\n",
    "\n",
    "copynum01 = marks.copy()\n",
    "\n",
    "copynum01"
   ]
  },
  {
   "cell_type": "code",
   "execution_count": 13,
   "id": "a59cd951",
   "metadata": {},
   "outputs": [
    {
     "data": {
      "text/plain": [
       "['p', 'a', 'r', 't', 'h']"
      ]
     },
     "execution_count": 13,
     "metadata": {},
     "output_type": "execute_result"
    }
   ],
   "source": [
    "list(\"parth\")"
   ]
  },
  {
   "cell_type": "code",
   "execution_count": null,
   "id": "fd13813f",
   "metadata": {},
   "outputs": [],
   "source": [
    "# Once you have created a list put. after variable (a.) and click tab so you will get drop down options!\n",
    "# if bydefault drop down option is not there you can install it by !pip3 install jedi==0.17.2"
   ]
  },
  {
   "cell_type": "code",
   "execution_count": null,
   "id": "fe2fb713",
   "metadata": {},
   "outputs": [],
   "source": [
    "# append method (.append) - is used to add data/item/element at last (position) in list"
   ]
  },
  {
   "cell_type": "code",
   "execution_count": 11,
   "id": "2a368478",
   "metadata": {},
   "outputs": [
    {
     "name": "stdout",
     "output_type": "stream",
     "text": [
      "['james']\n"
     ]
    }
   ],
   "source": [
    "employee = []\n",
    "\n",
    "employee.append('james')\n",
    "\n",
    "print(employee)"
   ]
  },
  {
   "cell_type": "code",
   "execution_count": 12,
   "id": "36821a20",
   "metadata": {},
   "outputs": [
    {
     "name": "stdout",
     "output_type": "stream",
     "text": [
      "['james', 'craig', 'patrick']\n"
     ]
    }
   ],
   "source": [
    "employee.append('craig')\n",
    "employee.append('patrick')\n",
    "print(employee)"
   ]
  },
  {
   "cell_type": "code",
   "execution_count": 14,
   "id": "7349e4b9",
   "metadata": {},
   "outputs": [
    {
     "data": {
      "text/plain": [
       "['james', 'craig', 'suzan', 'patrick']"
      ]
     },
     "execution_count": 14,
     "metadata": {},
     "output_type": "execute_result"
    }
   ],
   "source": [
    "# Index & Insert - Index is a virtual indexing of a data (e.g jack is 0, james is 1, sydney is 2)\n",
    "\n",
    "employee.insert(2, 'suzan')\n",
    "employee"
   ]
  },
  {
   "cell_type": "code",
   "execution_count": null,
   "id": "b8732462",
   "metadata": {},
   "outputs": [],
   "source": [
    "# To check number of element which are present in a list us (len)"
   ]
  },
  {
   "cell_type": "code",
   "execution_count": 15,
   "id": "c0df1838",
   "metadata": {},
   "outputs": [
    {
     "data": {
      "text/plain": [
       "4"
      ]
     },
     "execution_count": 15,
     "metadata": {},
     "output_type": "execute_result"
    }
   ],
   "source": [
    "len(employee)"
   ]
  },
  {
   "cell_type": "code",
   "execution_count": 16,
   "id": "5009f513",
   "metadata": {},
   "outputs": [
    {
     "data": {
      "text/plain": [
       "'suzan'"
      ]
     },
     "execution_count": 16,
     "metadata": {},
     "output_type": "execute_result"
    }
   ],
   "source": [
    "# Grabing (looking up) a element in a list based on its index\n",
    "\n",
    "employee[2]"
   ]
  },
  {
   "cell_type": "code",
   "execution_count": 17,
   "id": "9dec1406",
   "metadata": {},
   "outputs": [
    {
     "data": {
      "text/plain": [
       "['gregory', 'craig', 'suzan', 'patrick']"
      ]
     },
     "execution_count": 17,
     "metadata": {},
     "output_type": "execute_result"
    }
   ],
   "source": [
    "# Changing(updating) a element by its index\n",
    "\n",
    "employee[0] = 'gregory'\n",
    "\n",
    "employee"
   ]
  },
  {
   "cell_type": "markdown",
   "id": "30d8da94",
   "metadata": {},
   "source": [
    "# Slicing in python"
   ]
  },
  {
   "cell_type": "code",
   "execution_count": 18,
   "id": "88546f41",
   "metadata": {},
   "outputs": [
    {
     "data": {
      "text/plain": [
       "['craig', 'suzan', 'patrick']"
      ]
     },
     "execution_count": 18,
     "metadata": {},
     "output_type": "execute_result"
    }
   ],
   "source": [
    "#Grabing index 1 and evertything past it  with [:] (e.g [starting point index : ending point index])\n",
    "# End position of index is always excluded & starting position of index is always going to remain (included)\n",
    "\n",
    "employee[1:]"
   ]
  },
  {
   "cell_type": "code",
   "execution_count": 19,
   "id": "73eac78b",
   "metadata": {},
   "outputs": [
    {
     "data": {
      "text/plain": [
       "['gregory', 'craig']"
      ]
     },
     "execution_count": 19,
     "metadata": {},
     "output_type": "execute_result"
    }
   ],
   "source": [
    "employee[:2]"
   ]
  },
  {
   "cell_type": "code",
   "execution_count": 20,
   "id": "e63e4561",
   "metadata": {},
   "outputs": [
    {
     "data": {
      "text/plain": [
       "['craig', 'suzan']"
      ]
     },
     "execution_count": 20,
     "metadata": {},
     "output_type": "execute_result"
    }
   ],
   "source": [
    "employee[1:3]"
   ]
  },
  {
   "cell_type": "code",
   "execution_count": 21,
   "id": "94c0eb15",
   "metadata": {},
   "outputs": [],
   "source": [
    "# adding something perm in list without using append method(if we only do employee + xyz that will add something temorary)\n",
    "# to add something perm you need to us = (e.g below)\n",
    "# We can use * (multipe) also to double the data by above method\n",
    "\n",
    "employee_salary = [2000, 3000, 4000, 6000]\n",
    "\n",
    "employee_salary = employee_salary + [2500]"
   ]
  },
  {
   "cell_type": "code",
   "execution_count": 23,
   "id": "94685757",
   "metadata": {},
   "outputs": [
    {
     "data": {
      "text/plain": [
       "[2000, 3000, 4000, 6000, 2500]"
      ]
     },
     "execution_count": 23,
     "metadata": {},
     "output_type": "execute_result"
    }
   ],
   "source": [
    "employee_salary"
   ]
  },
  {
   "cell_type": "code",
   "execution_count": 79,
   "id": "14dc2f5e",
   "metadata": {},
   "outputs": [
    {
     "name": "stdout",
     "output_type": "stream",
     "text": [
      "========================================\n",
      "                parth               \n",
      "$$$$$$$$$$$$$$$$$$$$$$$$$$$$$$$$$$$$$$$$\n"
     ]
    }
   ],
   "source": [
    "print ('=' * 40)\n",
    "print ('                parth               ')\n",
    "print ('$' * 40)\n"
   ]
  },
  {
   "cell_type": "markdown",
   "id": "f10d423f",
   "metadata": {},
   "source": [
    "# Advance list"
   ]
  },
  {
   "cell_type": "code",
   "execution_count": null,
   "id": "f0bba6fa",
   "metadata": {},
   "outputs": [],
   "source": [
    "# COUNT Method: to count number of similar element present in a list\n"
   ]
  },
  {
   "cell_type": "code",
   "execution_count": 86,
   "id": "ebebbeb6",
   "metadata": {},
   "outputs": [
    {
     "data": {
      "text/plain": [
       "4"
      ]
     },
     "execution_count": 86,
     "metadata": {},
     "output_type": "execute_result"
    }
   ],
   "source": [
    "marks = [2,5,6,4,8,2,5,6,3,5,9,65,6,5,1,2,656,5554,36,5,64,9,9,3,4,5,7,6,3,1,4,9]\n",
    "\n",
    "marks.count(6)"
   ]
  },
  {
   "cell_type": "code",
   "execution_count": 87,
   "id": "e0677855",
   "metadata": {},
   "outputs": [
    {
     "data": {
      "text/plain": [
       "10"
      ]
     },
     "execution_count": 87,
     "metadata": {},
     "output_type": "execute_result"
    }
   ],
   "source": [
    "# Finding a elements index (but we will not get all index position of similar element\n",
    "\n",
    "marks.index(9)"
   ]
  },
  {
   "cell_type": "code",
   "execution_count": 24,
   "id": "920247e5",
   "metadata": {},
   "outputs": [
    {
     "data": {
      "text/plain": [
       "['gregory', 'craig', 'suzan', 'patrick']"
      ]
     },
     "execution_count": 24,
     "metadata": {},
     "output_type": "execute_result"
    }
   ],
   "source": [
    "employee"
   ]
  },
  {
   "cell_type": "code",
   "execution_count": 26,
   "id": "d3f7dfb8",
   "metadata": {},
   "outputs": [
    {
     "name": "stdout",
     "output_type": "stream",
     "text": [
      "['gregory', 'craig', 'suzan', 'patrick', 'jimmy', 'bella', 'agatha']\n"
     ]
    }
   ],
   "source": [
    "# Extend method: To append (add) multiple data\n",
    "\n",
    "employee.extend(['jimmy', 'bella', 'agatha'])\n",
    "\n",
    "print (employee)"
   ]
  },
  {
   "cell_type": "code",
   "execution_count": 27,
   "id": "3b3feac3",
   "metadata": {},
   "outputs": [
    {
     "data": {
      "text/plain": [
       "'agatha'"
      ]
     },
     "execution_count": 27,
     "metadata": {},
     "output_type": "execute_result"
    }
   ],
   "source": [
    "# POP method: To delete element from the list\n",
    "\n",
    "# Deleting last element by default.\n",
    "\n",
    "pop_last = employee.pop()\n",
    "pop_last"
   ]
  },
  {
   "cell_type": "code",
   "execution_count": 28,
   "id": "40ab6f6f",
   "metadata": {},
   "outputs": [
    {
     "data": {
      "text/plain": [
       "'patrick'"
      ]
     },
     "execution_count": 28,
     "metadata": {},
     "output_type": "execute_result"
    }
   ],
   "source": [
    "pop_index = employee.pop(3)\n",
    "pop_index"
   ]
  },
  {
   "cell_type": "code",
   "execution_count": 30,
   "id": "86b11460",
   "metadata": {},
   "outputs": [],
   "source": [
    "pop_index = employee.pop(0)"
   ]
  },
  {
   "cell_type": "code",
   "execution_count": 31,
   "id": "cce5821a",
   "metadata": {},
   "outputs": [
    {
     "name": "stdout",
     "output_type": "stream",
     "text": [
      "['suzan', 'jimmy', 'bella']\n"
     ]
    },
    {
     "data": {
      "text/plain": [
       "3"
      ]
     },
     "execution_count": 31,
     "metadata": {},
     "output_type": "execute_result"
    }
   ],
   "source": [
    "# verify if its deleted now\n",
    "\n",
    "print(employee)\n",
    "\n",
    "len(employee)"
   ]
  },
  {
   "cell_type": "code",
   "execution_count": 176,
   "id": "8cb09cdc",
   "metadata": {},
   "outputs": [],
   "source": [
    "# Remove method : To remove the 1st element from data & keeping duplicate data safe\n",
    "\n",
    "roll_number = [22,66,33,55,44,88,99,11,22,66,33,55,22]\n",
    "\n",
    "roll_number.remove(22)"
   ]
  },
  {
   "cell_type": "code",
   "execution_count": 177,
   "id": "a5c31d05",
   "metadata": {},
   "outputs": [
    {
     "name": "stdout",
     "output_type": "stream",
     "text": [
      "[66, 33, 55, 44, 88, 99, 11, 22, 66, 33, 55, 22]\n"
     ]
    }
   ],
   "source": [
    "print (roll_number)"
   ]
  },
  {
   "cell_type": "code",
   "execution_count": 178,
   "id": "22a0edee",
   "metadata": {},
   "outputs": [
    {
     "data": {
      "text/plain": [
       "['green', 'black', 'red']"
      ]
     },
     "execution_count": 178,
     "metadata": {},
     "output_type": "execute_result"
    }
   ],
   "source": [
    "# Reverse method : To reverse data\n",
    "\n",
    "car = ['red', 'black', 'green']\n",
    "\n",
    "car.reverse()\n",
    "\n",
    "car"
   ]
  },
  {
   "cell_type": "code",
   "execution_count": 179,
   "id": "84f504ad",
   "metadata": {},
   "outputs": [
    {
     "name": "stdout",
     "output_type": "stream",
     "text": [
      "[12, 21, 22, 24, 32, 33, 42, 52, 54, 62, 75, 76, 85, 96]\n"
     ]
    }
   ],
   "source": [
    "# Sort method : sorting data\n",
    "\n",
    "marks = [22,32,21,54,62,75,24,33,52,12,42,96,85,76]\n",
    "\n",
    "# By default sort will sort data in acending order\n",
    "\n",
    "marks.sort()\n",
    "print (marks)"
   ]
  },
  {
   "cell_type": "code",
   "execution_count": 180,
   "id": "f79f63c0",
   "metadata": {},
   "outputs": [
    {
     "name": "stdout",
     "output_type": "stream",
     "text": [
      "[96, 85, 76, 75, 62, 54, 52, 42, 33, 32, 24, 22, 21, 12]\n"
     ]
    }
   ],
   "source": [
    "# To sort manually\n",
    "\n",
    "marks.sort(reverse=True)\n",
    "\n",
    "print (marks)"
   ]
  },
  {
   "cell_type": "markdown",
   "id": "e05801b7",
   "metadata": {},
   "source": [
    "## Tuple (Data structure/container) ; '()' "
   ]
  },
  {
   "cell_type": "code",
   "execution_count": 36,
   "id": "77863021",
   "metadata": {},
   "outputs": [
    {
     "data": {
      "text/plain": [
       "tuple"
      ]
     },
     "execution_count": 36,
     "metadata": {},
     "output_type": "execute_result"
    }
   ],
   "source": [
    "# Tuple are Immutable unlike list, 2 method are available in Tuple \n",
    "\n",
    "location_work = ('noida', 'pune', 'vadodadara', 'bangalore')\n",
    "\n",
    "type(location_work)"
   ]
  },
  {
   "cell_type": "code",
   "execution_count": null,
   "id": "7814b082",
   "metadata": {},
   "outputs": [],
   "source": [
    "# as tuple are immutable you can reassign a tuple as a list just to edit & then reassign back as list"
   ]
  },
  {
   "cell_type": "code",
   "execution_count": 38,
   "id": "f30059e5",
   "metadata": {},
   "outputs": [
    {
     "data": {
      "text/plain": [
       "list"
      ]
     },
     "execution_count": 38,
     "metadata": {},
     "output_type": "execute_result"
    }
   ],
   "source": [
    "location_work = list(location_work)\n",
    "location_work\n",
    "type(location_work)"
   ]
  },
  {
   "cell_type": "code",
   "execution_count": 39,
   "id": "f1b0ee86",
   "metadata": {},
   "outputs": [
    {
     "data": {
      "text/plain": [
       "['noida', 'pune', 'chennai', 'bangalore', 'rajasthan']"
      ]
     },
     "execution_count": 39,
     "metadata": {},
     "output_type": "execute_result"
    }
   ],
   "source": [
    "# adding data into tuple after reassigning it as a list\n",
    "\n",
    "location_work.append('rajasthan')\n",
    "location_work[2] = 'chennai'\n",
    "\n",
    "location_work"
   ]
  },
  {
   "cell_type": "code",
   "execution_count": 40,
   "id": "3b67154d",
   "metadata": {},
   "outputs": [
    {
     "data": {
      "text/plain": [
       "tuple"
      ]
     },
     "execution_count": 40,
     "metadata": {},
     "output_type": "execute_result"
    }
   ],
   "source": [
    "# after adding changing the list back to tuple\n",
    "\n",
    "location_work = tuple(location_work)\n",
    "\n",
    "type(location_work)"
   ]
  },
  {
   "cell_type": "code",
   "execution_count": 43,
   "id": "d0e478a0",
   "metadata": {},
   "outputs": [
    {
     "data": {
      "text/plain": [
       "'bangalore'"
      ]
     },
     "execution_count": 43,
     "metadata": {},
     "output_type": "execute_result"
    }
   ],
   "source": [
    "# Unlike list tuple can also index its element from backword direction which starts from -1\n",
    "\n",
    "location_work[-2]\n"
   ]
  },
  {
   "cell_type": "markdown",
   "id": "a1a1875a",
   "metadata": {},
   "source": [
    "## SET (DATA Structure) '()'"
   ]
  },
  {
   "cell_type": "code",
   "execution_count": null,
   "id": "7d965bb8",
   "metadata": {},
   "outputs": [],
   "source": [
    "# Unique thing about set is that it doesnt takes any duplicate data"
   ]
  },
  {
   "cell_type": "code",
   "execution_count": 7,
   "id": "f6d65e25",
   "metadata": {},
   "outputs": [
    {
     "data": {
      "text/plain": [
       "{2}"
      ]
     },
     "execution_count": 7,
     "metadata": {},
     "output_type": "execute_result"
    }
   ],
   "source": [
    "rollnumber = set()\n",
    "type(rollnumber)\n",
    "\n",
    "rollnumber.add(2)\n",
    "\n",
    "rollnumber    "
   ]
  },
  {
   "cell_type": "code",
   "execution_count": 10,
   "id": "b5ae9340",
   "metadata": {},
   "outputs": [
    {
     "data": {
      "text/plain": [
       "{1, 2, 3, 4, 5, 6, 7, 8, 9}"
      ]
     },
     "execution_count": 10,
     "metadata": {},
     "output_type": "execute_result"
    }
   ],
   "source": [
    "# If you have a list which has dublicate number or elements you can convert it to SET in order to remove duplicate\n",
    "\n",
    "roll_number = [1,2,3,4,6,5,8,4,5,3,1,2,5,2,9,8,7,5,2,3,2,1,2,3,4,6,3,]\n",
    "type(roll_number)\n",
    "\n",
    "roll_call = set(roll_number)\n",
    "\n",
    "roll_call"
   ]
  },
  {
   "cell_type": "code",
   "execution_count": 11,
   "id": "91dc9484",
   "metadata": {},
   "outputs": [
    {
     "data": {
      "text/plain": [
       "[1, 2, 3, 4, 5, 6, 7, 8, 9]"
      ]
     },
     "execution_count": 11,
     "metadata": {},
     "output_type": "execute_result"
    }
   ],
   "source": [
    "# Once it has removed dublicate elements you can revert it back\n",
    "\n",
    "roll_number = list(roll_call)\n",
    "\n",
    "roll_number"
   ]
  },
  {
   "cell_type": "markdown",
   "id": "4b9b9561",
   "metadata": {},
   "source": [
    "## Dictionaries"
   ]
  },
  {
   "cell_type": "code",
   "execution_count": null,
   "id": "93ba4a7b",
   "metadata": {},
   "outputs": [],
   "source": [
    "# Dictionaries is a concept in python which is called Mapping (data), List, Tupple, Set they contain sequencial data.\n",
    "# But in Dictionaries you can do Mapping of data, E.g Key & its value = {'key1':'value1','key2':'value2'}\n",
    "# Dictionaries \"{}\""
   ]
  },
  {
   "cell_type": "code",
   "execution_count": 40,
   "id": "29fac825",
   "metadata": {},
   "outputs": [
    {
     "data": {
      "text/plain": [
       "{'Roll_number': [1, 2, 3],\n",
       " 'Marks_student': [22, 23, 32],\n",
       " 'Subject_student': ['computer', 'maths', 'science']}"
      ]
     },
     "execution_count": 40,
     "metadata": {},
     "output_type": "execute_result"
    }
   ],
   "source": [
    "Student_result = {'Roll_number':[1,2,3], 'Marks_student':[22,23,32], 'Subject_student':['computer','maths','science']}\n",
    "\n",
    "Student_result"
   ]
  },
  {
   "cell_type": "code",
   "execution_count": 41,
   "id": "87270e00",
   "metadata": {},
   "outputs": [
    {
     "data": {
      "text/plain": [
       "[22, 23, 32]"
      ]
     },
     "execution_count": 41,
     "metadata": {},
     "output_type": "execute_result"
    }
   ],
   "source": [
    "# How to fetch specific value in a Dictionaries\n",
    "\n",
    "Student_result['Marks_student']"
   ]
  },
  {
   "cell_type": "code",
   "execution_count": 21,
   "id": "7ce9484c",
   "metadata": {},
   "outputs": [
    {
     "data": {
      "text/plain": [
       "'maths'"
      ]
     },
     "execution_count": 21,
     "metadata": {},
     "output_type": "execute_result"
    }
   ],
   "source": [
    "# How to fetch specific value with its elements in a Dictionries\n",
    "\n",
    "Student_result['Subject_student'][1]"
   ]
  },
  {
   "cell_type": "code",
   "execution_count": 22,
   "id": "4431807c",
   "metadata": {},
   "outputs": [
    {
     "data": {
      "text/plain": [
       "'MATHS'"
      ]
     },
     "execution_count": 22,
     "metadata": {},
     "output_type": "execute_result"
    }
   ],
   "source": [
    "# How to convert a Value/ Element to upper or lower case\n",
    "\n",
    "Student_result['Subject_student'][1].upper()"
   ]
  },
  {
   "cell_type": "code",
   "execution_count": 43,
   "id": "022a59ed",
   "metadata": {},
   "outputs": [],
   "source": [
    "# How to change a value in a key (editing)\n",
    "\n",
    "Student_result['Marks_student'][0] = Student_result['Marks_student'][0] + 6"
   ]
  },
  {
   "cell_type": "code",
   "execution_count": 45,
   "id": "39d0c3f1",
   "metadata": {},
   "outputs": [
    {
     "data": {
      "text/plain": [
       "[28, 23, 32]"
      ]
     },
     "execution_count": 45,
     "metadata": {},
     "output_type": "execute_result"
    }
   ],
   "source": [
    "Student_result['Marks_student']"
   ]
  },
  {
   "cell_type": "code",
   "execution_count": 46,
   "id": "67271fa5",
   "metadata": {},
   "outputs": [],
   "source": [
    "# Another way of adding/substracting it\n",
    "\n",
    "Student_result['Marks_student'][1] -= 2"
   ]
  },
  {
   "cell_type": "code",
   "execution_count": 49,
   "id": "ff2a037f",
   "metadata": {},
   "outputs": [
    {
     "data": {
      "text/plain": [
       "[28, 21, 32]"
      ]
     },
     "execution_count": 49,
     "metadata": {},
     "output_type": "execute_result"
    }
   ],
   "source": [
    "Student_result['Marks_student']"
   ]
  },
  {
   "cell_type": "code",
   "execution_count": 51,
   "id": "ad8e4c10",
   "metadata": {},
   "outputs": [],
   "source": [
    "# Adding a new Key + Value to a Dictionary\n",
    "\n",
    "Student_result['Year'] = '3rd'"
   ]
  },
  {
   "cell_type": "code",
   "execution_count": 52,
   "id": "879ad266",
   "metadata": {},
   "outputs": [
    {
     "data": {
      "text/plain": [
       "{'Roll_number': [1, 2, 3],\n",
       " 'Marks_student': [28, 21, 32],\n",
       " 'Subject_student': ['computer', 'maths', 'science'],\n",
       " 'Year': '3rd'}"
      ]
     },
     "execution_count": 52,
     "metadata": {},
     "output_type": "execute_result"
    }
   ],
   "source": [
    "Student_result"
   ]
  },
  {
   "cell_type": "code",
   "execution_count": 53,
   "id": "46d43af9",
   "metadata": {},
   "outputs": [
    {
     "data": {
      "text/plain": [
       "dict_keys(['Roll_number', 'Marks_student', 'Subject_student', 'Year'])"
      ]
     },
     "execution_count": 53,
     "metadata": {},
     "output_type": "execute_result"
    }
   ],
   "source": [
    "# Key option to lookup only Keys\n",
    "\n",
    "Student_result.keys()"
   ]
  },
  {
   "cell_type": "code",
   "execution_count": 54,
   "id": "d9412591",
   "metadata": {},
   "outputs": [
    {
     "data": {
      "text/plain": [
       "dict_items([('Roll_number', [1, 2, 3]), ('Marks_student', [28, 21, 32]), ('Subject_student', ['computer', 'maths', 'science']), ('Year', '3rd')])"
      ]
     },
     "execution_count": 54,
     "metadata": {},
     "output_type": "execute_result"
    }
   ],
   "source": [
    "# Item option to lookup key & its value\n",
    "\n",
    "Student_result.items()"
   ]
  },
  {
   "cell_type": "markdown",
   "id": "6bd94e2b",
   "metadata": {},
   "source": [
    "## Branching (if/ elif/ else)"
   ]
  },
  {
   "cell_type": "code",
   "execution_count": 56,
   "id": "fdeeb94e",
   "metadata": {},
   "outputs": [
    {
     "name": "stdout",
     "output_type": "stream",
     "text": [
      "it is something else\n"
     ]
    }
   ],
   "source": [
    "A = 18\n",
    "\n",
    "if A < 15:\n",
    "    \n",
    "    print('it is less than 15')\n",
    "    \n",
    "else:\n",
    "    print('it is something else')"
   ]
  },
  {
   "cell_type": "code",
   "execution_count": 57,
   "id": "8fd06132",
   "metadata": {},
   "outputs": [
    {
     "name": "stdout",
     "output_type": "stream",
     "text": [
      "it is something else\n"
     ]
    }
   ],
   "source": [
    "# You can also write in this way\n",
    "\n",
    "print('it is less than 15') if A < 15 else print('it is something else')"
   ]
  },
  {
   "cell_type": "code",
   "execution_count": 60,
   "id": "2ab394bc",
   "metadata": {},
   "outputs": [
    {
     "name": "stdout",
     "output_type": "stream",
     "text": [
      "Both are not True\n"
     ]
    }
   ],
   "source": [
    "# According to Boolean in python if we use 'and' then both condition needs to be true or else it will not go further to check\n",
    "\n",
    "a = 300\n",
    "b = 50\n",
    "c = 400\n",
    "\n",
    "if a < b and c > a:\n",
    "    print('Both condition are True')\n",
    "    \n",
    "else:\n",
    "    print ('Both are not True')"
   ]
  },
  {
   "cell_type": "code",
   "execution_count": 62,
   "id": "0ad15b7a",
   "metadata": {},
   "outputs": [
    {
     "name": "stdout",
     "output_type": "stream",
     "text": [
      "Atleast one of the condition is True\n"
     ]
    }
   ],
   "source": [
    "# According to Boolean in python if we use 'or' then if one condition is True it will allow the python to compute\n",
    "\n",
    "a = 300\n",
    "b = 50\n",
    "c = 400\n",
    "\n",
    "if a > b or c < a:\n",
    "    print('Atleast one of the condition is True')\n",
    "    \n",
    "else:\n",
    "    print('Both are not True')"
   ]
  },
  {
   "cell_type": "markdown",
   "id": "24f204c4",
   "metadata": {},
   "source": [
    "# Real world example of using Branching"
   ]
  },
  {
   "cell_type": "code",
   "execution_count": 58,
   "id": "c9be2f58",
   "metadata": {},
   "outputs": [
    {
     "name": "stdout",
     "output_type": "stream",
     "text": [
      "please add 100 rupees worth of an item to your cart for free shipping\n"
     ]
    }
   ],
   "source": [
    "# The use of branching with real-world examples\n",
    "\n",
    "Item_1 = 300\n",
    "Item_2 = 100\n",
    "\n",
    "if (Item_1 + Item_2) >= 500:\n",
    "    print('Your Item are eligible for free shipping')\n",
    "    \n",
    "else:\n",
    "    extra = 500 - (Item_1 + Item_2)\n",
    "    print('please add', extra, 'rupees worth of an item to your cart for free shipping')"
   ]
  },
  {
   "cell_type": "code",
   "execution_count": 66,
   "id": "5b91d275",
   "metadata": {},
   "outputs": [
    {
     "name": "stdout",
     "output_type": "stream",
     "text": [
      "34 - Fail - Better luck next time\n"
     ]
    }
   ],
   "source": [
    "# Real-world example (Student result)\n",
    "\n",
    "marks = 34\n",
    "\n",
    "if marks >= 60:\n",
    "    if marks > 70:\n",
    "        print(marks, '- Distinction')\n",
    "    else:\n",
    "        print(marks,'- First class')\n",
    "        \n",
    "elif marks > 50 and marks <= 60:\n",
    "    print (marks, '- Second class')\n",
    "    \n",
    "elif marks >=35:\n",
    "    print(marks, '- Pass')\n",
    "    \n",
    "else:\n",
    "    print(marks, '- Fail - Better luck next time')"
   ]
  },
  {
   "cell_type": "markdown",
   "id": "040eb09b",
   "metadata": {},
   "source": [
    "## Range() Function\n",
    "\n",
    "We can generate a sequence of numbers using range() function. range(10) will generate numbers from 0 to 9 (10 numbers).\n",
    "We can also define the start and stop and step size as range (start, stop, step size). step is default to 1 if not provided\n",
    "To force this function to output all the items, we can use list()"
   ]
  },
  {
   "cell_type": "code",
   "execution_count": 67,
   "id": "b3f30c1b",
   "metadata": {},
   "outputs": [
    {
     "name": "stdout",
     "output_type": "stream",
     "text": [
      "range(0, 10)\n"
     ]
    }
   ],
   "source": [
    "print(range(10))"
   ]
  },
  {
   "cell_type": "code",
   "execution_count": 68,
   "id": "73c00213",
   "metadata": {},
   "outputs": [
    {
     "name": "stdout",
     "output_type": "stream",
     "text": [
      "[0, 1, 2, 3, 4, 5, 6, 7, 8, 9]\n"
     ]
    }
   ],
   "source": [
    "# Forcing range to show its element/item by using list\n",
    "\n",
    "print (list(range(10)))"
   ]
  },
  {
   "cell_type": "code",
   "execution_count": 69,
   "id": "95bf757b",
   "metadata": {},
   "outputs": [
    {
     "data": {
      "text/plain": [
       "[0, 3, 6, 9, 12, 15, 18, 21, 24, 27, 30, 33, 36, 39, 42]"
      ]
     },
     "execution_count": 69,
     "metadata": {},
     "output_type": "execute_result"
    }
   ],
   "source": [
    "# using step size in range\n",
    "\n",
    "stepsize_example = list(range(0,43,3))\n",
    "\n",
    "stepsize_example"
   ]
  },
  {
   "cell_type": "code",
   "execution_count": 73,
   "id": "c609a9f0",
   "metadata": {},
   "outputs": [
    {
     "data": {
      "text/plain": [
       "[43, 40, 37, 34, 31, 28, 25, 22, 19, 16, 13, 10, 7, 4, 1]"
      ]
     },
     "execution_count": 73,
     "metadata": {},
     "output_type": "execute_result"
    }
   ],
   "source": [
    "# checking range from decending order\n",
    "\n",
    "stepsize_example = list(range(43,0,-3))\n",
    "\n",
    "stepsize_example"
   ]
  },
  {
   "cell_type": "markdown",
   "id": "3da74a45",
   "metadata": {},
   "source": [
    "## Loops\n",
    "Types of loops 1) For loop 2) while loop\n",
    "for loop = if you know how many times you want to execute the code then use a loop.\n",
    "while loop = if you dont know how many time you want to execute the use while loop (it will stop only if the condition is true)"
   ]
  },
  {
   "cell_type": "markdown",
   "id": "7eb3d3f4",
   "metadata": {},
   "source": [
    "# For loop"
   ]
  },
  {
   "cell_type": "code",
   "execution_count": null,
   "id": "bbe31a2b",
   "metadata": {},
   "outputs": [],
   "source": [
    "# The For loop in python is used to iterate over a sequence (list,tuple,string) or other iterable objects\n",
    "# iterating over a sequence is called traversal\n",
    "# Loop continues until we reach the last item in the sequence"
   ]
  },
  {
   "cell_type": "code",
   "execution_count": 8,
   "id": "5aff2eb1",
   "metadata": {},
   "outputs": [
    {
     "name": "stdout",
     "output_type": "stream",
     "text": [
      "3500\n",
      "4500\n",
      "5500\n",
      "3400\n",
      "5000\n",
      "6000\n"
     ]
    }
   ],
   "source": [
    "# In below example we can see that using a intelligence like for loop we can get specific/ desired data from database\n",
    "\n",
    "Emp_salary = [1500,2500,3500,4500,5500,1800,3400,2200,5000,3000,6000]\n",
    "\n",
    "for income in Emp_salary:\n",
    "    if income > 3000:\n",
    "        print(income)"
   ]
  },
  {
   "cell_type": "code",
   "execution_count": 10,
   "id": "17f75218",
   "metadata": {},
   "outputs": [
    {
     "name": "stdout",
     "output_type": "stream",
     "text": [
      "20 -Fail - Better luck next time\n",
      "35 -Pass\n",
      "46 -Pass\n",
      "59 -Second class\n",
      "63 -First class\n",
      "86 -Disctinction\n",
      "93 -Disctinction\n",
      "72 -Disctinction\n"
     ]
    }
   ],
   "source": [
    "# Using For loop we can get desired outcome of multiple data in database\n",
    "# Example\n",
    "\n",
    "Student_scores = [20,35,46,59,63,86,93,72]\n",
    "\n",
    "for marks in Student_scores:\n",
    "    if marks > 60:\n",
    "        if marks > 70:\n",
    "            print(marks, '-Disctinction')\n",
    "        else:\n",
    "            print(marks, '-First class')\n",
    "    \n",
    "    elif marks > 50 and marks <= 60:\n",
    "        print(marks, '-Second class')\n",
    "        \n",
    "    elif marks >= 34:\n",
    "        print(marks, '-Pass')\n",
    "    \n",
    "    else:\n",
    "        print(marks, '-Fail - Better luck next time')"
   ]
  },
  {
   "cell_type": "code",
   "execution_count": 11,
   "id": "31316797",
   "metadata": {},
   "outputs": [
    {
     "name": "stdout",
     "output_type": "stream",
     "text": [
      "[4500, 5500, 5000, 6000]\n"
     ]
    }
   ],
   "source": [
    "# another example\n",
    "\n",
    "Emp_salary = [1500,2500,3500,4500,5500,1800,3400,2200,5000,3000,6000]\n",
    "\n",
    "Sal = [Sal for Sal in Emp_salary if Sal > 3500]\n",
    "\n",
    "print(Sal)"
   ]
  },
  {
   "cell_type": "code",
   "execution_count": 12,
   "id": "31389ad0",
   "metadata": {},
   "outputs": [
    {
     "name": "stdout",
     "output_type": "stream",
     "text": [
      "Multiplication table for- 2\n",
      "2\n",
      "4\n",
      "6\n",
      "8\n",
      "10\n",
      "12\n",
      "14\n",
      "16\n",
      "18\n",
      "20\n",
      "\n",
      "\n",
      "Multiplication table for- 3\n",
      "3\n",
      "6\n",
      "9\n",
      "12\n",
      "15\n",
      "18\n",
      "21\n",
      "24\n",
      "27\n",
      "30\n",
      "\n",
      "\n",
      "Multiplication table for- 4\n",
      "4\n",
      "8\n",
      "12\n",
      "16\n",
      "20\n",
      "24\n",
      "28\n",
      "32\n",
      "36\n",
      "40\n",
      "\n",
      "\n",
      "******************************\n",
      "End of multiplication table\n",
      "******************************\n"
     ]
    }
   ],
   "source": [
    "# Another example of multiplication table with Else option in for loops\n",
    "\n",
    "for num in range(2,5):\n",
    "    print('Multiplication table for-', num)\n",
    "    for i in range(1,11):\n",
    "        print(num * i)\n",
    "        if i == 10:\n",
    "            print ('\\n')          # ('\\n') this function tells python to go back to the main for loop and start with another num\n",
    "            \n",
    "else:\n",
    "    print('*' * 30)\n",
    "    print('End of multiplication table')\n",
    "    print('*' * 30)"
   ]
  },
  {
   "cell_type": "markdown",
   "id": "549c9c18",
   "metadata": {},
   "source": [
    "#  While Loops"
   ]
  },
  {
   "cell_type": "code",
   "execution_count": null,
   "id": "fbfa83c8",
   "metadata": {},
   "outputs": [],
   "source": [
    "# While loop is used to iterate over a block of code as long as the test expression (condition) is true."
   ]
  },
  {
   "cell_type": "code",
   "execution_count": 13,
   "id": "760e6d2e",
   "metadata": {},
   "outputs": [
    {
     "name": "stdout",
     "output_type": "stream",
     "text": [
      "1 parth\n",
      "2 parth\n",
      "3 parth\n",
      "4 parth\n",
      "5 parth\n",
      "6 parth\n"
     ]
    }
   ],
   "source": [
    "# Example\n",
    "\n",
    "i = 0\n",
    "\n",
    "while i < 6:\n",
    "    i = i + 1\n",
    "    print(i, 'parth')"
   ]
  },
  {
   "cell_type": "code",
   "execution_count": 6,
   "id": "1ba39bd3",
   "metadata": {},
   "outputs": [
    {
     "name": "stdout",
     "output_type": "stream",
     "text": [
      "time.struct_time(tm_year=2022, tm_mon=8, tm_mday=18, tm_hour=6, tm_min=21, tm_sec=2, tm_wday=3, tm_yday=230, tm_isdst=0)\n"
     ]
    }
   ],
   "source": [
    "# Example of while loop & breaking the iterations once its true\n",
    "\n",
    "import time\n",
    "alarm = time.localtime()\n",
    "print (alarm)"
   ]
  },
  {
   "cell_type": "code",
   "execution_count": 7,
   "id": "40260669",
   "metadata": {},
   "outputs": [
    {
     "name": "stdout",
     "output_type": "stream",
     "text": [
      "Wake Up\n"
     ]
    }
   ],
   "source": [
    "while True:\n",
    "    alarm = time.localtime()\n",
    "    if alarm.tm_hour == 6 and alarm.tm_min== 24:\n",
    "        print('Wake Up')\n",
    "        break  #break will put a stop on the loop"
   ]
  },
  {
   "cell_type": "markdown",
   "id": "30daa4ab",
   "metadata": {},
   "source": [
    "## Enumerate "
   ]
  },
  {
   "cell_type": "code",
   "execution_count": null,
   "id": "62d1f4ea",
   "metadata": {},
   "outputs": [],
   "source": [
    "# Enumerate() allows us to iterate through a sequence but it keeps track of both the index and the element"
   ]
  },
  {
   "cell_type": "code",
   "execution_count": 2,
   "id": "a8b646a4",
   "metadata": {},
   "outputs": [
    {
     "name": "stdout",
     "output_type": "stream",
     "text": [
      "(0, 'trump')\n",
      "(1, 'lincoln')\n",
      "(2, 'biden')\n",
      "(3, 'george')\n",
      "(4, 'putin')\n",
      "(5, 'zelinsky')\n"
     ]
    }
   ],
   "source": [
    "president = ['trump','lincoln','biden','george','putin','zelinsky']\n",
    "\n",
    "for candidate in enumerate(president):\n",
    "    print(candidate)"
   ]
  },
  {
   "cell_type": "code",
   "execution_count": 3,
   "id": "c77a32f2",
   "metadata": {},
   "outputs": [
    {
     "name": "stdout",
     "output_type": "stream",
     "text": [
      "(9, 'trump')\n",
      "(10, 'lincoln')\n",
      "(11, 'biden')\n",
      "(12, 'george')\n",
      "(13, 'putin')\n",
      "(14, 'zelinsky')\n"
     ]
    }
   ],
   "source": [
    "# you can start index from any number example below\n",
    "\n",
    "for candidate in enumerate(president,9):\n",
    "    print(candidate)"
   ]
  },
  {
   "cell_type": "markdown",
   "id": "6f4cc5dc",
   "metadata": {},
   "source": [
    "# # Zip"
   ]
  },
  {
   "cell_type": "code",
   "execution_count": 1,
   "id": "8d2a9ca5",
   "metadata": {},
   "outputs": [],
   "source": [
    "# How to zip all the list or data set in one variable\n",
    "\n",
    "Student_M = ['james','drake','craig','charles','angela','darcy']\n",
    "Student_S = [23,57,75,35,55,65]\n",
    "\n",
    "Student_G = list(zip(Student_M,Student_S))"
   ]
  },
  {
   "cell_type": "code",
   "execution_count": 2,
   "id": "bb6d165c",
   "metadata": {},
   "outputs": [
    {
     "data": {
      "text/plain": [
       "[('james', 23),\n",
       " ('drake', 57),\n",
       " ('craig', 75),\n",
       " ('charles', 35),\n",
       " ('angela', 55),\n",
       " ('darcy', 65)]"
      ]
     },
     "execution_count": 2,
     "metadata": {},
     "output_type": "execute_result"
    }
   ],
   "source": [
    "Student_G"
   ]
  },
  {
   "cell_type": "markdown",
   "id": "d79d0d1e",
   "metadata": {},
   "source": [
    "# # Unzip"
   ]
  },
  {
   "cell_type": "code",
   "execution_count": 3,
   "id": "063fa3e8",
   "metadata": {},
   "outputs": [],
   "source": [
    "Name, Marks_s = zip(*Student_G)"
   ]
  },
  {
   "cell_type": "code",
   "execution_count": 4,
   "id": "e4ec6c90",
   "metadata": {},
   "outputs": [
    {
     "data": {
      "text/plain": [
       "('james', 'drake', 'craig', 'charles', 'angela', 'darcy')"
      ]
     },
     "execution_count": 4,
     "metadata": {},
     "output_type": "execute_result"
    }
   ],
   "source": [
    "Name"
   ]
  },
  {
   "cell_type": "code",
   "execution_count": 5,
   "id": "71e0cbae",
   "metadata": {},
   "outputs": [
    {
     "data": {
      "text/plain": [
       "(23, 57, 75, 35, 55, 65)"
      ]
     },
     "execution_count": 5,
     "metadata": {},
     "output_type": "execute_result"
    }
   ],
   "source": [
    "Marks_s"
   ]
  },
  {
   "cell_type": "markdown",
   "id": "08f09c39",
   "metadata": {},
   "source": [
    "# # Break"
   ]
  },
  {
   "cell_type": "code",
   "execution_count": 13,
   "id": "7756c946",
   "metadata": {},
   "outputs": [
    {
     "name": "stdout",
     "output_type": "stream",
     "text": [
      "Hyderabad\n",
      "Mumbai\n",
      "Pune\n",
      "Noida\n"
     ]
    }
   ],
   "source": [
    "# Break is used to break a loop or a script to stop running when you mention break\n",
    "\n",
    "# Example\n",
    "\n",
    "B_City = ['Hyderabad', 'Mumbai', 'Pune', 'Noida', 'Surat', 'Bihar']\n",
    "\n",
    "for val in B_City:\n",
    "    if val == \"Surat\":\n",
    "        break\n",
    "        \n",
    "    print(val)"
   ]
  },
  {
   "cell_type": "code",
   "execution_count": 34,
   "id": "58c4a1c1",
   "metadata": {},
   "outputs": [
    {
     "name": "stdout",
     "output_type": "stream",
     "text": [
      "2500\n",
      "3600\n"
     ]
    }
   ],
   "source": [
    "# Example 2\n",
    "\n",
    "Salary_1 = [2500,3600,5200,5000,6400,4500,3500,6500]\n",
    "\n",
    "for sal in Salary_1:\n",
    "    if sal > 4500:\n",
    "        break\n",
    "    \n",
    "    print(sal)"
   ]
  },
  {
   "cell_type": "markdown",
   "id": "2e5e516c",
   "metadata": {},
   "source": [
    "# # Continue"
   ]
  },
  {
   "cell_type": "code",
   "execution_count": 35,
   "id": "16dd2fbb",
   "metadata": {},
   "outputs": [
    {
     "name": "stdout",
     "output_type": "stream",
     "text": [
      "Hyderabad\n",
      "Mumbai\n",
      "Pune\n",
      "Noida\n",
      "Bihar\n"
     ]
    }
   ],
   "source": [
    "# Continue is used for any script which has to continue when the condition is met.\n",
    "\n",
    "B_City = ['Hyderabad', 'Mumbai', 'Pune', 'Noida', 'Surat', 'Bihar']\n",
    "\n",
    "for val in B_City:\n",
    "    if val == \"Surat\":\n",
    "        continue\n",
    "        \n",
    "    print(val)"
   ]
  },
  {
   "cell_type": "code",
   "execution_count": 37,
   "id": "5865f0d8",
   "metadata": {},
   "outputs": [
    {
     "name": "stdout",
     "output_type": "stream",
     "text": [
      "2500\n",
      "3600\n",
      "4500\n",
      "3500\n"
     ]
    }
   ],
   "source": [
    "# Example 2\n",
    "\n",
    "Salary_1 = [2500,3600,5200,5000,6400,4500,3500,6500]\n",
    "\n",
    "for sal in Salary_1:\n",
    "    if sal > 4500:\n",
    "        continue\n",
    "    \n",
    "    print(sal)"
   ]
  },
  {
   "cell_type": "markdown",
   "id": "abb4c9cb",
   "metadata": {},
   "source": [
    "# # String Indexing"
   ]
  },
  {
   "cell_type": "code",
   "execution_count": 38,
   "id": "2fb30d0c",
   "metadata": {},
   "outputs": [
    {
     "name": "stdout",
     "output_type": "stream",
     "text": [
      "Daisy is crazy\n"
     ]
    }
   ],
   "source": [
    "# String are sequence, and index are number assign to each string/data/val \n",
    "# E.g Parth - 0-P, 1-a, 2-r, 3-t, 4-h\n",
    "\n",
    "D_DOG = 'Daisy is crazy'\n",
    "\n",
    "print(D_DOG)"
   ]
  },
  {
   "cell_type": "code",
   "execution_count": 39,
   "id": "2634114f",
   "metadata": {},
   "outputs": [
    {
     "data": {
      "text/plain": [
       "'D'"
      ]
     },
     "execution_count": 39,
     "metadata": {},
     "output_type": "execute_result"
    }
   ],
   "source": [
    "# show 1st element of D_DOG\n",
    "\n",
    "D_DOG[0]"
   ]
  },
  {
   "cell_type": "code",
   "execution_count": 40,
   "id": "7d77095b",
   "metadata": {},
   "outputs": [
    {
     "data": {
      "text/plain": [
       "'aisy is crazy'"
      ]
     },
     "execution_count": 40,
     "metadata": {},
     "output_type": "execute_result"
    }
   ],
   "source": [
    "# Grab everything past the first term all the way to the length of D_DOG which is len(D_DOG)\n",
    "\n",
    "D_DOG[1:]"
   ]
  },
  {
   "cell_type": "code",
   "execution_count": 42,
   "id": "8fb15b03",
   "metadata": {},
   "outputs": [
    {
     "data": {
      "text/plain": [
       "'sy is '"
      ]
     },
     "execution_count": 42,
     "metadata": {},
     "output_type": "execute_result"
    }
   ],
   "source": [
    "D_DOG[3:9]"
   ]
  },
  {
   "cell_type": "code",
   "execution_count": 43,
   "id": "79d0b21f",
   "metadata": {},
   "outputs": [
    {
     "data": {
      "text/plain": [
       "'y'"
      ]
     },
     "execution_count": 43,
     "metadata": {},
     "output_type": "execute_result"
    }
   ],
   "source": [
    "# From last to back around at 0\n",
    "\n",
    "D_DOG[-1]"
   ]
  },
  {
   "cell_type": "code",
   "execution_count": 44,
   "id": "20d3d0d7",
   "metadata": {},
   "outputs": [
    {
     "data": {
      "text/plain": [
       "'Daisy is craz'"
      ]
     },
     "execution_count": 44,
     "metadata": {},
     "output_type": "execute_result"
    }
   ],
   "source": [
    "# Grab everything but not the last letter\n",
    "\n",
    "D_DOG[:-1]"
   ]
  },
  {
   "cell_type": "code",
   "execution_count": 45,
   "id": "b6ef02ec",
   "metadata": {},
   "outputs": [
    {
     "data": {
      "text/plain": [
       "'Diyi rz'"
      ]
     },
     "execution_count": 45,
     "metadata": {},
     "output_type": "execute_result"
    }
   ],
   "source": [
    "# Now using step size for grabing\n",
    "\n",
    "D_DOG[::2]"
   ]
  },
  {
   "cell_type": "code",
   "execution_count": 46,
   "id": "949c6d9d",
   "metadata": {},
   "outputs": [
    {
     "data": {
      "text/plain": [
       "'yacs sa'"
      ]
     },
     "execution_count": 46,
     "metadata": {},
     "output_type": "execute_result"
    }
   ],
   "source": [
    "D_DOG[::-2]"
   ]
  }
 ],
 "metadata": {
  "kernelspec": {
   "display_name": "Python 3 (ipykernel)",
   "language": "python",
   "name": "python3"
  },
  "language_info": {
   "codemirror_mode": {
    "name": "ipython",
    "version": 3
   },
   "file_extension": ".py",
   "mimetype": "text/x-python",
   "name": "python",
   "nbconvert_exporter": "python",
   "pygments_lexer": "ipython3",
   "version": "3.9.12"
  }
 },
 "nbformat": 4,
 "nbformat_minor": 5
}
