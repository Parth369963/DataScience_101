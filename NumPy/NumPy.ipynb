{
 "cells": [
  {
   "cell_type": "markdown",
   "id": "db95e777",
   "metadata": {},
   "source": [
    "#                                        NUMPY Array"
   ]
  },
  {
   "cell_type": "code",
   "execution_count": 33,
   "id": "edcb9758",
   "metadata": {},
   "outputs": [],
   "source": [
    "import numpy as np"
   ]
  },
  {
   "cell_type": "code",
   "execution_count": 3,
   "id": "33e9795b",
   "metadata": {},
   "outputs": [
    {
     "name": "stdout",
     "output_type": "stream",
     "text": [
      "['ALLOW_THREADS', 'AxisError', 'BUFSIZE', 'Bytes0', 'CLIP', 'ComplexWarning', 'DataSource', 'Datetime64', 'ERR_CALL', 'ERR_DEFAULT', 'ERR_IGNORE', 'ERR_LOG', 'ERR_PRINT', 'ERR_RAISE', 'ERR_WARN', 'FLOATING_POINT_SUPPORT', 'FPE_DIVIDEBYZERO', 'FPE_INVALID', 'FPE_OVERFLOW', 'FPE_UNDERFLOW', 'False_', 'Inf', 'Infinity', 'MAXDIMS', 'MAY_SHARE_BOUNDS', 'MAY_SHARE_EXACT', 'MachAr', 'ModuleDeprecationWarning', 'NAN', 'NINF', 'NZERO', 'NaN', 'PINF', 'PZERO', 'RAISE', 'RankWarning', 'SHIFT_DIVIDEBYZERO', 'SHIFT_INVALID', 'SHIFT_OVERFLOW', 'SHIFT_UNDERFLOW', 'ScalarType', 'Str0', 'Tester', 'TooHardError', 'True_', 'UFUNC_BUFSIZE_DEFAULT', 'UFUNC_PYVALS_NAME', 'Uint32', 'VisibleDeprecationWarning', 'WRAP', '_NoValue', '_UFUNC_API', '__NUMPY_SETUP__', '__all__', '__builtins__', '__cached__', '__config__', '__deprecated_attrs__', '__dir__', '__doc__', '__expired_functions__', '__file__', '__getattr__', '__git_version__', '__loader__', '__mkl_version__', '__name__', '__package__', '__path__', '__spec__', '__version__', '_add_newdoc_ufunc', '_distributor_init', '_financial_names', '_globals', '_mat', '_pytesttester', '_version', 'abs', 'absolute', 'add', 'add_docstring', 'add_newdoc', 'add_newdoc_ufunc', 'alen', 'all', 'allclose', 'alltrue', 'amax', 'amin', 'angle', 'any', 'append', 'apply_along_axis', 'apply_over_axes', 'arange', 'arccos', 'arccosh', 'arcsin', 'arcsinh', 'arctan', 'arctan2', 'arctanh', 'argmax', 'argmin', 'argpartition', 'argsort', 'argwhere', 'around', 'array', 'array2string', 'array_equal', 'array_equiv', 'array_repr', 'array_split', 'array_str', 'asanyarray', 'asarray', 'asarray_chkfinite', 'ascontiguousarray', 'asfarray', 'asfortranarray', 'asmatrix', 'asscalar', 'atleast_1d', 'atleast_2d', 'atleast_3d', 'average', 'bartlett', 'base_repr', 'binary_repr', 'bincount', 'bitwise_and', 'bitwise_not', 'bitwise_or', 'bitwise_xor', 'blackman', 'block', 'bmat', 'bool8', 'bool_', 'broadcast', 'broadcast_arrays', 'broadcast_shapes', 'broadcast_to', 'busday_count', 'busday_offset', 'busdaycalendar', 'byte', 'byte_bounds', 'bytes0', 'bytes_', 'c_', 'can_cast', 'cast', 'cbrt', 'cdouble', 'ceil', 'cfloat', 'char', 'character', 'chararray', 'choose', 'clip', 'clongdouble', 'clongfloat', 'column_stack', 'common_type', 'compare_chararrays', 'compat', 'complex128', 'complex64', 'complex_', 'complexfloating', 'compress', 'concatenate', 'conj', 'conjugate', 'convolve', 'copy', 'copysign', 'copyto', 'core', 'corrcoef', 'correlate', 'cos', 'cosh', 'count_nonzero', 'cov', 'cross', 'csingle', 'ctypeslib', 'cumprod', 'cumproduct', 'cumsum', 'datetime64', 'datetime_as_string', 'datetime_data', 'deg2rad', 'degrees', 'delete', 'deprecate', 'deprecate_with_doc', 'diag', 'diag_indices', 'diag_indices_from', 'diagflat', 'diagonal', 'diff', 'digitize', 'disp', 'divide', 'divmod', 'dot', 'double', 'dsplit', 'dstack', 'dtype', 'e', 'ediff1d', 'einsum', 'einsum_path', 'emath', 'empty', 'empty_like', 'equal', 'errstate', 'euler_gamma', 'exp', 'exp2', 'expand_dims', 'expm1', 'extract', 'eye', 'fabs', 'fastCopyAndTranspose', 'fft', 'fill_diagonal', 'find_common_type', 'finfo', 'fix', 'flatiter', 'flatnonzero', 'flexible', 'flip', 'fliplr', 'flipud', 'float16', 'float32', 'float64', 'float_', 'float_power', 'floating', 'floor', 'floor_divide', 'fmax', 'fmin', 'fmod', 'format_float_positional', 'format_float_scientific', 'format_parser', 'frexp', 'frombuffer', 'fromfile', 'fromfunction', 'fromiter', 'frompyfunc', 'fromregex', 'fromstring', 'full', 'full_like', 'gcd', 'generic', 'genfromtxt', 'geomspace', 'get_array_wrap', 'get_include', 'get_printoptions', 'getbufsize', 'geterr', 'geterrcall', 'geterrobj', 'gradient', 'greater', 'greater_equal', 'half', 'hamming', 'hanning', 'heaviside', 'histogram', 'histogram2d', 'histogram_bin_edges', 'histogramdd', 'hsplit', 'hstack', 'hypot', 'i0', 'identity', 'iinfo', 'imag', 'in1d', 'index_exp', 'indices', 'inexact', 'inf', 'info', 'infty', 'inner', 'insert', 'int0', 'int16', 'int32', 'int64', 'int8', 'int_', 'intc', 'integer', 'interp', 'intersect1d', 'intp', 'invert', 'is_busday', 'isclose', 'iscomplex', 'iscomplexobj', 'isfinite', 'isfortran', 'isin', 'isinf', 'isnan', 'isnat', 'isneginf', 'isposinf', 'isreal', 'isrealobj', 'isscalar', 'issctype', 'issubclass_', 'issubdtype', 'issubsctype', 'iterable', 'ix_', 'kaiser', 'kron', 'lcm', 'ldexp', 'left_shift', 'less', 'less_equal', 'lexsort', 'lib', 'linalg', 'linspace', 'little_endian', 'load', 'loads', 'loadtxt', 'log', 'log10', 'log1p', 'log2', 'logaddexp', 'logaddexp2', 'logical_and', 'logical_not', 'logical_or', 'logical_xor', 'logspace', 'longcomplex', 'longdouble', 'longfloat', 'longlong', 'lookfor', 'ma', 'mafromtxt', 'mask_indices', 'mat', 'math', 'matmul', 'matrix', 'matrixlib', 'max', 'maximum', 'maximum_sctype', 'may_share_memory', 'mean', 'median', 'memmap', 'meshgrid', 'mgrid', 'min', 'min_scalar_type', 'minimum', 'mintypecode', 'mkl', 'mod', 'modf', 'moveaxis', 'msort', 'multiply', 'nan', 'nan_to_num', 'nanargmax', 'nanargmin', 'nancumprod', 'nancumsum', 'nanmax', 'nanmean', 'nanmedian', 'nanmin', 'nanpercentile', 'nanprod', 'nanquantile', 'nanstd', 'nansum', 'nanvar', 'nbytes', 'ndarray', 'ndenumerate', 'ndfromtxt', 'ndim', 'ndindex', 'nditer', 'negative', 'nested_iters', 'newaxis', 'nextafter', 'nonzero', 'not_equal', 'numarray', 'number', 'obj2sctype', 'object0', 'object_', 'ogrid', 'oldnumeric', 'ones', 'ones_like', 'os', 'outer', 'packbits', 'pad', 'partition', 'percentile', 'pi', 'piecewise', 'place', 'poly', 'poly1d', 'polyadd', 'polyder', 'polydiv', 'polyfit', 'polyint', 'polymul', 'polynomial', 'polysub', 'polyval', 'positive', 'power', 'printoptions', 'prod', 'product', 'promote_types', 'ptp', 'put', 'put_along_axis', 'putmask', 'quantile', 'r_', 'rad2deg', 'radians', 'random', 'ravel', 'ravel_multi_index', 'real', 'real_if_close', 'rec', 'recarray', 'recfromcsv', 'recfromtxt', 'reciprocal', 'record', 'remainder', 'repeat', 'require', 'reshape', 'resize', 'result_type', 'right_shift', 'rint', 'roll', 'rollaxis', 'roots', 'rot90', 'round', 'round_', 'row_stack', 's_', 'safe_eval', 'save', 'savetxt', 'savez', 'savez_compressed', 'sctype2char', 'sctypeDict', 'sctypes', 'searchsorted', 'select', 'set_numeric_ops', 'set_printoptions', 'set_string_function', 'setbufsize', 'setdiff1d', 'seterr', 'seterrcall', 'seterrobj', 'setxor1d', 'shape', 'shares_memory', 'short', 'show_config', 'sign', 'signbit', 'signedinteger', 'sin', 'sinc', 'single', 'singlecomplex', 'sinh', 'size', 'sometrue', 'sort', 'sort_complex', 'source', 'spacing', 'split', 'sqrt', 'square', 'squeeze', 'stack', 'std', 'str0', 'str_', 'string_', 'subtract', 'sum', 'swapaxes', 'sys', 'take', 'take_along_axis', 'tan', 'tanh', 'tensordot', 'test', 'testing', 'tile', 'timedelta64', 'trace', 'tracemalloc_domain', 'transpose', 'trapz', 'tri', 'tril', 'tril_indices', 'tril_indices_from', 'trim_zeros', 'triu', 'triu_indices', 'triu_indices_from', 'true_divide', 'trunc', 'typecodes', 'typename', 'ubyte', 'ufunc', 'uint', 'uint0', 'uint16', 'uint32', 'uint64', 'uint8', 'uintc', 'uintp', 'ulonglong', 'unicode_', 'union1d', 'unique', 'unpackbits', 'unravel_index', 'unsignedinteger', 'unwrap', 'use_hugepage', 'ushort', 'vander', 'var', 'vdot', 'vectorize', 'version', 'void', 'void0', 'vsplit', 'vstack', 'warnings', 'where', 'who', 'zeros', 'zeros_like']\n"
     ]
    }
   ],
   "source": [
    "# Checking all the function in numpy\n",
    "\n",
    "print (dir(np))"
   ]
  },
  {
   "cell_type": "code",
   "execution_count": 6,
   "id": "8643efc2",
   "metadata": {},
   "outputs": [
    {
     "data": {
      "text/plain": [
       "2.449489742783178"
      ]
     },
     "execution_count": 6,
     "metadata": {},
     "output_type": "execute_result"
    }
   ],
   "source": [
    "np.sqrt(6)        # .sqrt = square root, this function is used to check square root"
   ]
  },
  {
   "cell_type": "code",
   "execution_count": 8,
   "id": "73e3ed3f",
   "metadata": {},
   "outputs": [
    {
     "name": "stdout",
     "output_type": "stream",
     "text": [
      "Minimum  18\n",
      "Maximum  57\n"
     ]
    }
   ],
   "source": [
    "print ('Minimum ',np.amin([25,30,57,18]))\n",
    "\n",
    "print ('Maximum ',np.amax([25,30,57,18]))"
   ]
  },
  {
   "cell_type": "code",
   "execution_count": 9,
   "id": "91053379",
   "metadata": {},
   "outputs": [
    {
     "data": {
      "text/plain": [
       "30.0"
      ]
     },
     "execution_count": 9,
     "metadata": {},
     "output_type": "execute_result"
    }
   ],
   "source": [
    "# Creating a roundfigure off a number\n",
    "np.ceil(29.1)"
   ]
  },
  {
   "cell_type": "code",
   "execution_count": 12,
   "id": "b8771d68",
   "metadata": {},
   "outputs": [
    {
     "data": {
      "text/plain": [
       "3.0"
      ]
     },
     "execution_count": 12,
     "metadata": {},
     "output_type": "execute_result"
    }
   ],
   "source": [
    "np.ceil(np.sqrt(6)) # square root of 6 is 2.449489742783178 & with np.ceil (roundfigure function) its 3.0"
   ]
  },
  {
   "cell_type": "code",
   "execution_count": 14,
   "id": "d62e4688",
   "metadata": {},
   "outputs": [
    {
     "data": {
      "text/plain": [
       "8.0"
      ]
     },
     "execution_count": 14,
     "metadata": {},
     "output_type": "execute_result"
    }
   ],
   "source": [
    "np.ceil(np.sum(np.sqrt([3, 6, 9])))"
   ]
  },
  {
   "cell_type": "code",
   "execution_count": 15,
   "id": "ced07038",
   "metadata": {},
   "outputs": [
    {
     "data": {
      "text/plain": [
       "array([3, 6, 9])"
      ]
     },
     "execution_count": 15,
     "metadata": {},
     "output_type": "execute_result"
    }
   ],
   "source": [
    "np.array([3, 6, 9])"
   ]
  },
  {
   "cell_type": "code",
   "execution_count": 17,
   "id": "a7bf9c73",
   "metadata": {},
   "outputs": [
    {
     "data": {
      "text/plain": [
       "list"
      ]
     },
     "execution_count": 17,
     "metadata": {},
     "output_type": "execute_result"
    }
   ],
   "source": [
    "type([3, 6, 9])"
   ]
  },
  {
   "cell_type": "code",
   "execution_count": 18,
   "id": "dbdc98be",
   "metadata": {},
   "outputs": [],
   "source": [
    "xyz = np.array([3, 6, 9])"
   ]
  },
  {
   "cell_type": "code",
   "execution_count": 19,
   "id": "fb9eb4dc",
   "metadata": {},
   "outputs": [
    {
     "data": {
      "text/plain": [
       "numpy.ndarray"
      ]
     },
     "execution_count": 19,
     "metadata": {},
     "output_type": "execute_result"
    }
   ],
   "source": [
    "type(xyz)  #.ndarray = multidimensional container of items of the same type and size"
   ]
  },
  {
   "cell_type": "code",
   "execution_count": 21,
   "id": "1cb9f344",
   "metadata": {},
   "outputs": [],
   "source": [
    "# Number of square brackets at the start & end point defines dimentions, [[]] = 2 dimention, [] = 1 dimention"
   ]
  },
  {
   "cell_type": "code",
   "execution_count": 20,
   "id": "899ae976",
   "metadata": {},
   "outputs": [
    {
     "name": "stdout",
     "output_type": "stream",
     "text": [
      "Type -  int32\n",
      "\n",
      " ******************************\n",
      "\n",
      " [[1 2]\n",
      " [3 4]\n",
      " [4 5]]\n"
     ]
    }
   ],
   "source": [
    "a = np.array([[1,2], [3,4], [4,5]])\n",
    "\n",
    "print (\"Type - \",a.dtype)\n",
    "\n",
    "print ('\\n', '*' * 30) \n",
    "\n",
    "print ('\\n',a)"
   ]
  },
  {
   "cell_type": "code",
   "execution_count": 22,
   "id": "aba20a72",
   "metadata": {},
   "outputs": [
    {
     "data": {
      "text/plain": [
       "2"
      ]
     },
     "execution_count": 22,
     "metadata": {},
     "output_type": "execute_result"
    }
   ],
   "source": [
    "a.ndim  # check a (variable of np.array) possess how many dimentional data"
   ]
  },
  {
   "cell_type": "code",
   "execution_count": 23,
   "id": "f51be764",
   "metadata": {},
   "outputs": [
    {
     "data": {
      "text/plain": [
       "array([3., 6., 9.])"
      ]
     },
     "execution_count": 23,
     "metadata": {},
     "output_type": "execute_result"
    }
   ],
   "source": [
    "# dtype function for conversion\n",
    "np.array([3, 6, 9], dtype=float)"
   ]
  },
  {
   "cell_type": "code",
   "execution_count": 24,
   "id": "f96f4293",
   "metadata": {},
   "outputs": [
    {
     "name": "stdout",
     "output_type": "stream",
     "text": [
      "[1 2]\n"
     ]
    }
   ],
   "source": [
    "# comvert a list into an array:\n",
    "\n",
    "a = [1, 2]\n",
    "\n",
    "c = np.array(a)\n",
    "print (c)"
   ]
  },
  {
   "cell_type": "code",
   "execution_count": 25,
   "id": "1fe91320",
   "metadata": {},
   "outputs": [
    {
     "name": "stdout",
     "output_type": "stream",
     "text": [
      "[1 2]\n"
     ]
    }
   ],
   "source": [
    "# copy array into other\n",
    "\n",
    "b=np.asarray(c)\n",
    "print (b)"
   ]
  },
  {
   "cell_type": "markdown",
   "id": "aeb295df",
   "metadata": {},
   "source": [
    "## Data type in NumPy"
   ]
  },
  {
   "cell_type": "code",
   "execution_count": 4,
   "id": "08cfa314",
   "metadata": {},
   "outputs": [
    {
     "name": "stdout",
     "output_type": "stream",
     "text": [
      "Type/Class of this object: <class 'numpy.ndarray'>\n",
      "Here is the matrix\n",
      "---------\n",
      " [[1 2 3]\n",
      " [4 5 6]\n",
      " [7 8 9]] \n",
      "---------\n",
      "Dimension of this matrix: 2\n",
      "Size of this matrix: 9\n",
      "Shape of this matrix:  (3, 3)\n",
      "Data type of this matrix:  int32\n"
     ]
    }
   ],
   "source": [
    "my_matrix = [[1,2,3],[4,5,6],[7,8,9]]\n",
    "\n",
    "matrix = np.array(my_matrix)\n",
    "\n",
    "print(\"Type/Class of this object:\",type(matrix))\n",
    "\n",
    "print(\"Here is the matrix\\n---------\\n\",matrix,\"\\n---------\")\n",
    "\n",
    "print(\"Dimension of this matrix: \",matrix.ndim,sep='')         #ndim gives the dimension, 2 for a matrix, 1 for a vector\n",
    "\n",
    "print(\"Size of this matrix: \", matrix.size, sep='')            #size gives the total number of elements\n",
    "print(\"Shape of this matrix: \", matrix.shape)                  #shape gives the number of elements along each axes (dimension)\n",
    "print(\"Data type of this matrix: \", matrix.dtype)              #dtype gives the data type contained in the array"
   ]
  },
  {
   "cell_type": "markdown",
   "id": "9ce8ff0e",
   "metadata": {},
   "source": [
    "## arange "
   ]
  },
  {
   "cell_type": "code",
   "execution_count": null,
   "id": "831fff4a",
   "metadata": {},
   "outputs": [],
   "source": [
    "# using decimal with range function they dont work in python\n",
    "# but using arange function in NumPy it works"
   ]
  },
  {
   "cell_type": "code",
   "execution_count": 5,
   "id": "9021e872",
   "metadata": {},
   "outputs": [
    {
     "data": {
      "text/plain": [
       "array([3. , 3.9, 4.8, 5.7])"
      ]
     },
     "execution_count": 5,
     "metadata": {},
     "output_type": "execute_result"
    }
   ],
   "source": [
    "a = np.arange(3,6.3,.9)\n",
    "a"
   ]
  },
  {
   "cell_type": "code",
   "execution_count": 6,
   "id": "3b5408b8",
   "metadata": {},
   "outputs": [
    {
     "data": {
      "text/plain": [
       "array([5.7, 4.8, 3.9, 3. ])"
      ]
     },
     "execution_count": 6,
     "metadata": {},
     "output_type": "execute_result"
    }
   ],
   "source": [
    "# reverse order\n",
    "a[::-1]"
   ]
  },
  {
   "cell_type": "code",
   "execution_count": 18,
   "id": "a957f431",
   "metadata": {},
   "outputs": [
    {
     "name": "stdout",
     "output_type": "stream",
     "text": [
      "Every 5th number from 50 in reverse order\n",
      " [50 45 40 35 30 25 20 15 10  5  0]\n"
     ]
    }
   ],
   "source": [
    "print(\"Every 5th number from 50 in reverse order\\n\",np.arange(50,-1,-5))\n",
    "\n",
    "# 50 is start point\n",
    "# -1 is end point\n",
    "# -5 is stepsize"
   ]
  },
  {
   "cell_type": "markdown",
   "id": "b388a0f8",
   "metadata": {},
   "source": [
    "## linspace "
   ]
  },
  {
   "cell_type": "code",
   "execution_count": 19,
   "id": "3cffe846",
   "metadata": {},
   "outputs": [
    {
     "name": "stdout",
     "output_type": "stream",
     "text": [
      "linearly spaced numbers between 10 and 40\n",
      "--------------------------\n",
      "[10.  22.5 35.  47.5 60. ]\n"
     ]
    }
   ],
   "source": [
    "print(\"linearly spaced numbers between 10 and 40\\n--------------------------\")\n",
    "print(np.linspace(10,60,5))\n",
    "\n",
    "# 10 is starting point\n",
    "# 60 is ending point\n",
    "# 5 is not stepsize here, it refers to number of element that should be present between 10-60 & equally/linearly spaced."
   ]
  },
  {
   "cell_type": "code",
   "execution_count": 20,
   "id": "9e62bda6",
   "metadata": {},
   "outputs": [
    {
     "data": {
      "text/plain": [
       "(array([2.  , 2.25, 2.5 , 2.75]), 0.25)"
      ]
     },
     "execution_count": 20,
     "metadata": {},
     "output_type": "execute_result"
    }
   ],
   "source": [
    "#include end point and check space between the points\n",
    "#By default endpoint = True\n",
    "# bydefault retstep = False\n",
    "np.linspace(2.0, 3.0, num=4, endpoint=False, retstep=True)\n",
    "\n",
    "#endpoint=False means it will exclude endpoint\n",
    "# retstep=True will provide the distance between each number which is in this code 0.25"
   ]
  },
  {
   "cell_type": "code",
   "execution_count": 21,
   "id": "6dbee94d",
   "metadata": {},
   "outputs": [
    {
     "name": "stdout",
     "output_type": "stream",
     "text": [
      "(array([ 4.5678 ,  5.13145,  5.6951 ,  6.25875,  6.8224 ,  7.38605,\n",
      "        7.9497 ,  8.51335,  9.077  ,  9.64065, 10.2043 , 10.76795,\n",
      "       11.3316 , 11.89525, 12.4589 , 13.02255, 13.5862 , 14.14985,\n",
      "       14.7135 , 15.27715, 15.8408 , 16.40445, 16.9681 , 17.53175,\n",
      "       18.0954 , 18.65905, 19.2227 , 19.78635, 20.35   , 20.91365,\n",
      "       21.4773 , 22.04095, 22.6046 , 23.16825, 23.7319 , 24.29555,\n",
      "       24.8592 , 25.42285, 25.9865 ]), 0.56365)\n"
     ]
    }
   ],
   "source": [
    "print(np.linspace(4.5678,25.9865,39, retstep=True))\n",
    "\n",
    "# The reason retstep is used, is when the data has complex stepsize/ distance between"
   ]
  },
  {
   "cell_type": "code",
   "execution_count": null,
   "id": "6feb0458",
   "metadata": {},
   "outputs": [],
   "source": [
    "# IMPORTANT: To know what type of steps we can use simply do (Hold shift + Tab). This will show options on available functions\n",
    "# IMPORTANT: To know available steps and details of a code or function or a syntax just do (Shift + 4 times Tab)"
   ]
  },
  {
   "cell_type": "markdown",
   "id": "6210b8d6",
   "metadata": {},
   "source": [
    "# Matrix Creation"
   ]
  },
  {
   "cell_type": "code",
   "execution_count": 22,
   "id": "bc359430",
   "metadata": {},
   "outputs": [
    {
     "name": "stdout",
     "output_type": "stream",
     "text": [
      "Vector of zeroes\n",
      "----------------- \n",
      "[0. 0. 0. 0. 0.]\n"
     ]
    }
   ],
   "source": [
    "print(\"Vector of zeroes\\n----------------- \")\n",
    "\n",
    "print(np.zeros(5))\n"
   ]
  },
  {
   "cell_type": "code",
   "execution_count": 23,
   "id": "741fd238",
   "metadata": {},
   "outputs": [
    {
     "name": "stdout",
     "output_type": "stream",
     "text": [
      "Matrix of zeroes\n",
      "---------------\n",
      "[[0. 0. 0. 0. 0. 0.]\n",
      " [0. 0. 0. 0. 0. 0.]\n",
      " [0. 0. 0. 0. 0. 0.]\n",
      " [0. 0. 0. 0. 0. 0.]\n",
      " [0. 0. 0. 0. 0. 0.]]\n"
     ]
    }
   ],
   "source": [
    "print(\"Matrix of zeroes\\n---------------\")\n",
    "\n",
    "print(np.zeros((5,6)))\n",
    "\n",
    "# Here (()) creates a Matrix\n",
    "# where ((5,6)), 5 = row in a Matrix & 6 = columns in a Matrix"
   ]
  },
  {
   "cell_type": "code",
   "execution_count": 24,
   "id": "daaff64b",
   "metadata": {},
   "outputs": [
    {
     "name": "stdout",
     "output_type": "stream",
     "text": [
      "Matrix of ones\n",
      "-----------------\n",
      "[[1. 1. 1. 1. 1. 1. 1. 1.]\n",
      " [1. 1. 1. 1. 1. 1. 1. 1.]\n",
      " [1. 1. 1. 1. 1. 1. 1. 1.]\n",
      " [1. 1. 1. 1. 1. 1. 1. 1.]\n",
      " [1. 1. 1. 1. 1. 1. 1. 1.]]\n"
     ]
    }
   ],
   "source": [
    "print(\"Matrix of ones\\n-----------------\")\n",
    "print(np.ones((5,8))) # Matrix dimension is specified using (()) Tuple\n"
   ]
  },
  {
   "cell_type": "code",
   "execution_count": 25,
   "id": "e4e55b0b",
   "metadata": {},
   "outputs": [
    {
     "name": "stdout",
     "output_type": "stream",
     "text": [
      "Matrix of 5's\n",
      "------------------\n",
      "[[5. 5. 5. 5.]\n",
      " [5. 5. 5. 5.]\n",
      " [5. 5. 5. 5.]]\n"
     ]
    }
   ],
   "source": [
    "print(\"Matrix of 5's\\n------------------\")\n",
    "\n",
    "print(5*np.ones((3,4)))"
   ]
  },
  {
   "cell_type": "code",
   "execution_count": 29,
   "id": "96e54c42",
   "metadata": {},
   "outputs": [
    {
     "name": "stdout",
     "output_type": "stream",
     "text": [
      "[[ 0  1  2  3  4  5]\n",
      " [ 6  7  8  9 10 11]\n",
      " [12 13 14 15 16 17]\n",
      " [18 19 20 21 22 23]\n",
      " [24 25 26 27 28 29]]\n"
     ]
    }
   ],
   "source": [
    "#consruct diagonal matrix\n",
    "\n",
    "X = np.arange(30).reshape(5,6)\n",
    "\n",
    "print (X)"
   ]
  },
  {
   "cell_type": "markdown",
   "id": "97baaeda",
   "metadata": {},
   "source": [
    "# Random number generation (.random)\n",
    "\n",
    "## .seed\n",
    ".seed function will work only in .random\n",
    "This function creates Float type data (number with point)\n",
    "This will create a similar random number but always a positive number\n",
    "\n",
    "## .randn\n",
    "This creates positive as well as negative numbers\n",
    "Creates bell type structure when its visualized\n",
    "\n",
    "## .randint\n",
    "This creates random number using index (starting range, ending range, number of random number) e.g (3,33,9)\n",
    "9 = number of random number need to be created\n",
    "3-33 = only create random between 3-33"
   ]
  },
  {
   "cell_type": "code",
   "execution_count": 30,
   "id": "498b983c",
   "metadata": {},
   "outputs": [
    {
     "name": "stdout",
     "output_type": "stream",
     "text": [
      "Random number generation (From uniform distribution)\n",
      "[[0.89286015 0.33197981 0.82122912 0.04169663 0.10765668 0.59505206]\n",
      " [0.52981736 0.41880743 0.33540785 0.62251943 0.43814143 0.73588211]\n",
      " [0.51803641 0.5788586  0.6453551  0.99022427 0.8198582  0.41320093]\n",
      " [0.87626766 0.82375943 0.05447451 0.71863724 0.80217056 0.73640664]\n",
      " [0.70913175 0.54093685 0.12482417 0.9576473  0.4032563  0.21695116]\n",
      " [0.71727585 0.99420744 0.25561406 0.67130943 0.59900591 0.71733215]\n",
      " [0.93734953 0.35180977 0.2536341  0.40247251 0.74651072 0.72407057]\n",
      " [0.4061078  0.98937985 0.45049928 0.37380843 0.70962861 0.08245855]\n",
      " [0.39837292 0.77088097 0.76475098 0.28385938 0.18954219 0.47125096]\n",
      " [0.33480604 0.73473504 0.18910712 0.33110407 0.84422842 0.61502403]]\n"
     ]
    }
   ],
   "source": [
    "np.random.seed(6) # Each seed number will generate similar, seed will maintain random number in each systems\n",
    "\n",
    "#.seed only works with random function\n",
    "\n",
    "print(\"Random number generation (From uniform distribution)\")\n",
    "\n",
    "print(np.random.rand(10,6))\n",
    "\n",
    "# This generate number <1, +ve number, uniformly distributed number, float type numerical data"
   ]
  },
  {
   "cell_type": "code",
   "execution_count": 31,
   "id": "5507972a",
   "metadata": {},
   "outputs": [
    {
     "name": "stdout",
     "output_type": "stream",
     "text": [
      "Number from Normal distrinbution with zero mean and standard deviation 1 i.e. standard normal\n",
      "[[-0.37550472  0.39636757 -0.47144628]\n",
      " [ 2.33660781  1.50278553 -0.59545972]\n",
      " [ 0.52834106  0.9398248   0.42628539]\n",
      " [-0.75815703 -0.16236698  0.72680996]\n",
      " [ 0.44408297 -0.85682264  0.44692842]\n",
      " [-1.01464799 -2.1323234   0.17386307]\n",
      " [ 0.95120126  0.44189739  1.46901739]\n",
      " [ 1.74951635  0.35353062 -0.64333729]\n",
      " [-0.04723705 -1.44903979 -0.03618977]\n",
      " [-0.09084699  0.17629034  1.09462041]]\n"
     ]
    }
   ],
   "source": [
    "print(\"Number from Normal distrinbution with zero mean and standard deviation 1 i.e. standard normal\")\n",
    "print(np.random.randn(10,3))\n",
    "\n",
    "# This creates +ve & -ve digits, creates Normal distribution which is a bell shaped curve when its visualized"
   ]
  },
  {
   "cell_type": "code",
   "execution_count": 32,
   "id": "ecfec652",
   "metadata": {},
   "outputs": [
    {
     "name": "stdout",
     "output_type": "stream",
     "text": [
      "Random integer vector: [12 12 16 10  8 13 12  8 15 10]\n"
     ]
    }
   ],
   "source": [
    "print(\"Random integer vector:\",np.random.randint(5,20,10))  #randint (low, high, # of sample to be drawn)\n",
    "\n",
    "# 10 = is total number of random digit\n",
    "# 5-20 = random number only between 5-20"
   ]
  },
  {
   "cell_type": "code",
   "execution_count": 6,
   "id": "fed959cc",
   "metadata": {},
   "outputs": [
    {
     "name": "stdout",
     "output_type": "stream",
     "text": [
      "\n",
      "Random integer matrix\n",
      "[[60 66 81 81 58 38 68 46]\n",
      " [24 95 71  8  9 74 97 18]\n",
      " [66 78 53 77 80 42 42 79]\n",
      " [59 40 95 10 49 60 34 40]\n",
      " [46 99 99 80 19 78 51 35]\n",
      " [23 20 15 43 84 85 91 63]]\n"
     ]
    }
   ],
   "source": [
    "print(\"\\nRandom integer matrix\")\n",
    "print(np.random.randint(5,100,(6,8))) \n",
    "\n",
    "# randint (low, high, # of samples to be drawn in a  tuple to form a matrix)\n"
   ]
  },
  {
   "cell_type": "code",
   "execution_count": 10,
   "id": "37edbb34",
   "metadata": {},
   "outputs": [
    {
     "name": "stdout",
     "output_type": "stream",
     "text": [
      "Your OTP is - [4414]\n",
      "Enter OTP3314\n",
      "Invalid OTP,Generate new OTP\n",
      "Your OTP is - [7751]\n",
      "Enter OTP7751\n",
      "Login success\n"
     ]
    }
   ],
   "source": [
    "# One of the real time example of randint is\n",
    "while True:\n",
    "    OTP1 = np.random.randint(1000,10000,1)\n",
    "    print('Your OTP is -', OTP1)\n",
    "    user_otp = int(input('Enter OTP'))\n",
    "    if OTP1 == user_otp:\n",
    "        print('Login success')\n",
    "        break\n",
    "    else:\n",
    "        print(\"Invalid OTP,Generate new OTP\")\n",
    "        continue"
   ]
  },
  {
   "cell_type": "markdown",
   "id": "39fe96ed",
   "metadata": {},
   "source": [
    "# Reshaping other ways"
   ]
  },
  {
   "cell_type": "code",
   "execution_count": 11,
   "id": "c88227b4",
   "metadata": {},
   "outputs": [],
   "source": [
    "import numpy as np\n",
    "from numpy.random import randint as ri"
   ]
  },
  {
   "cell_type": "code",
   "execution_count": 12,
   "id": "7ed3a884",
   "metadata": {},
   "outputs": [
    {
     "data": {
      "text/plain": [
       "array([36, 14, 22, 94, 33, 53, 89, 90, 88, 83, 66, 96, 31, 26, 68, 95, 33,\n",
       "       78, 64, 18, 78, 33, 69, 92, 29, 40, 21, 29, 66,  4])"
      ]
     },
     "execution_count": 12,
     "metadata": {},
     "output_type": "execute_result"
    }
   ],
   "source": [
    "a = ri(1,99,30)\n",
    "a"
   ]
  },
  {
   "cell_type": "code",
   "execution_count": 13,
   "id": "00cf0497",
   "metadata": {},
   "outputs": [
    {
     "data": {
      "text/plain": [
       "array([[36, 14, 22, 94, 33],\n",
       "       [53, 89, 90, 88, 83],\n",
       "       [66, 96, 31, 26, 68],\n",
       "       [95, 33, 78, 64, 18],\n",
       "       [78, 33, 69, 92, 29],\n",
       "       [40, 21, 29, 66,  4]])"
      ]
     },
     "execution_count": 13,
     "metadata": {},
     "output_type": "execute_result"
    }
   ],
   "source": [
    "c = a.reshape(6,5)\n",
    "c"
   ]
  },
  {
   "cell_type": "code",
   "execution_count": 14,
   "id": "520ca0bd",
   "metadata": {},
   "outputs": [
    {
     "name": "stdout",
     "output_type": "stream",
     "text": [
      "Min of a: 4\n",
      "Max of b: 96\n"
     ]
    }
   ],
   "source": [
    "print(\"Min of a:\", c.min())\n",
    "print(\"Max of b:\", c.max())"
   ]
  },
  {
   "cell_type": "code",
   "execution_count": 15,
   "id": "ffbfb146",
   "metadata": {},
   "outputs": [
    {
     "data": {
      "text/plain": [
       "54.6"
      ]
     },
     "execution_count": 15,
     "metadata": {},
     "output_type": "execute_result"
    }
   ],
   "source": [
    "np.mean(c)"
   ]
  },
  {
   "cell_type": "markdown",
   "id": "ffc7e52b",
   "metadata": {},
   "source": [
    "# Sorting"
   ]
  },
  {
   "cell_type": "code",
   "execution_count": 19,
   "id": "ee91cac0",
   "metadata": {},
   "outputs": [
    {
     "name": "stdout",
     "output_type": "stream",
     "text": [
      "\n",
      "5x5 Matrix of random integers\n",
      " -------------------------------------------------- \n",
      " [[91 98 69  1 53]\n",
      " [81 15 68 53  9]\n",
      " [33 38 47 57 90]\n",
      " [66  6 29 57 67]\n",
      " [32 99 28 23 76]]\n",
      "\n",
      "Here is the sorted matrix along each row\n",
      " -------------------------------------------------- \n",
      " [[ 1 53 69 91 98]\n",
      " [ 9 15 53 68 81]\n",
      " [33 38 47 57 90]\n",
      " [ 6 29 57 66 67]\n",
      " [23 28 32 76 99]]\n",
      "\n",
      "Here is the sorted matrix along each column\n",
      " -------------------------------------------------- \n",
      " [[32  6 28  1  9]\n",
      " [33 15 29 23 53]\n",
      " [66 38 47 53 67]\n",
      " [81 98 68 57 76]\n",
      " [91 99 69 57 90]]\n"
     ]
    }
   ],
   "source": [
    "M = ri(1,100,25).reshape(5,5) # Matrix of random interegrs\n",
    "\n",
    "print(\"\\n5x5 Matrix of random integers\\n\",'-'*50,\"\\n\",M)\n",
    "\n",
    "print(\"\\nHere is the sorted matrix along each row\\n\",'-'*50,\"\\n\",np.sort(M)) # Default axis = 1\n",
    "\n",
    "print(\"\\nHere is the sorted matrix along each column\\n\",'-'*50,\"\\n\",np.sort(M, axis=0))"
   ]
  },
  {
   "cell_type": "markdown",
   "id": "35c06228",
   "metadata": {},
   "source": [
    "# Numpy Condition"
   ]
  },
  {
   "cell_type": "code",
   "execution_count": 20,
   "id": "fa25127d",
   "metadata": {},
   "outputs": [
    {
     "data": {
      "text/plain": [
       "array([19, 63, 24, 45, 14, 54, 37, 38, 45, 62])"
      ]
     },
     "execution_count": 20,
     "metadata": {},
     "output_type": "execute_result"
    }
   ],
   "source": [
    "# Below are employee salary.\n",
    "emp_salary = np.random.randint(8,70,10)\n",
    "emp_salary"
   ]
  },
  {
   "cell_type": "code",
   "execution_count": 21,
   "id": "5526c0e5",
   "metadata": {},
   "outputs": [
    {
     "name": "stdout",
     "output_type": "stream",
     "text": [
      "(array([0, 2, 4], dtype=int32),)\n"
     ]
    }
   ],
   "source": [
    "# If you want to find actual salary which are less than or greater than some salary use np.where\n",
    "#np.where gives index details.\n",
    "print (np.where(emp_salary < 25))"
   ]
  },
  {
   "cell_type": "code",
   "execution_count": 22,
   "id": "e3ae19e4",
   "metadata": {},
   "outputs": [
    {
     "data": {
      "text/plain": [
       "array([19, 24, 14])"
      ]
     },
     "execution_count": 22,
     "metadata": {},
     "output_type": "execute_result"
    }
   ],
   "source": [
    "# Fetching corrosponding data (as in above it only fetch index)\n",
    "emp_salary[np.where(emp_salary < 25)]"
   ]
  },
  {
   "cell_type": "code",
   "execution_count": 23,
   "id": "20cdcb7d",
   "metadata": {},
   "outputs": [
    {
     "data": {
      "text/plain": [
       "array([20, 50, 24, 45, 20, 50, 37, 38, 45, 50])"
      ]
     },
     "execution_count": 23,
     "metadata": {},
     "output_type": "execute_result"
    }
   ],
   "source": [
    "# set minimum or maximum salary using a_min and a_max function\n",
    "np.clip(emp_salary, a_min=20, a_max=50)"
   ]
  },
  {
   "cell_type": "markdown",
   "id": "c4dee51a",
   "metadata": {},
   "source": [
    "# Indexing and Slicing"
   ]
  },
  {
   "cell_type": "code",
   "execution_count": 25,
   "id": "3a3e4b59",
   "metadata": {},
   "outputs": [
    {
     "name": "stdout",
     "output_type": "stream",
     "text": [
      "Array: [15 16 17 18 19 20 21 22 23 24 25 26 27 28 29 30 31 32 33 34 35 36 37 38\n",
      " 39 40 41 42 43 44 45]\n"
     ]
    }
   ],
   "source": [
    "arr = np.arange(15,46)\n",
    "\n",
    "print(\"Array:\",arr)"
   ]
  },
  {
   "cell_type": "code",
   "execution_count": 26,
   "id": "74f2674d",
   "metadata": {},
   "outputs": [
    {
     "name": "stdout",
     "output_type": "stream",
     "text": [
      "Element at 7th index is: 22\n"
     ]
    }
   ],
   "source": [
    "print(\"Element at 7th index is:\", arr[7])\n",
    "# To find element of 1 index we have to use [] single bracket\n",
    "# To find element of multiple index we have to use [[]] double bracket"
   ]
  },
  {
   "cell_type": "code",
   "execution_count": 27,
   "id": "6b93badb",
   "metadata": {},
   "outputs": [
    {
     "name": "stdout",
     "output_type": "stream",
     "text": [
      "Elements at 3rd, 6th, and 9th index are [18 21 24]\n"
     ]
    }
   ],
   "source": [
    "print(\"Elements at 3rd, 6th, and 9th index are\", arr[[3,6,9]])\n",
    "# here we need element of multiple index so we use double bracket [[]]\n",
    "# passing a list as a index to subset"
   ]
  },
  {
   "cell_type": "markdown",
   "id": "50b35816",
   "metadata": {},
   "source": [
    "####  How to extract data from matrix? -Indexing & Slicing "
   ]
  },
  {
   "cell_type": "code",
   "execution_count": 4,
   "id": "55d4f36e",
   "metadata": {},
   "outputs": [
    {
     "data": {
      "text/plain": [
       "array([[1, 2, 3],\n",
       "       [4, 5, 6],\n",
       "       [7, 8, 9]])"
      ]
     },
     "execution_count": 4,
     "metadata": {},
     "output_type": "execute_result"
    }
   ],
   "source": [
    "my_matrix1 = [[1,2,3],[4,5,6],[7,8,9]]\n",
    "\n",
    "matrix = np.array(my_matrix1)\n",
    "\n",
    "matrix"
   ]
  },
  {
   "attachments": {
    "qrq.PNG": {
     "image/png": "[encoded data removed]"
    }
   },
   "cell_type": "markdown",
   "id": "8c170236",
   "metadata": {},
   "source": [
    "![qrq.PNG](attachment:qrq.PNG)"
   ]
  },
  {
   "cell_type": "code",
   "execution_count": 5,
   "id": "401675f0",
   "metadata": {},
   "outputs": [
    {
     "name": "stdout",
     "output_type": "stream",
     "text": [
      "\n",
      "Double bracket indexing\n",
      "--------------------\n",
      "Element in 1st row & 2nd column is 6\n"
     ]
    }
   ],
   "source": [
    "print(\"\\nDouble bracket indexing\\n--------------------\")\n",
    "print(\"Element in 1st row & 2nd column is\", matrix[1][2])"
   ]
  },
  {
   "cell_type": "code",
   "execution_count": null,
   "id": "d00ad95a",
   "metadata": {},
   "outputs": [],
   "source": [
    "# Index is matrix is based on row and column above image is a representation"
   ]
  },
  {
   "cell_type": "code",
   "execution_count": 6,
   "id": "1e0472a3",
   "metadata": {},
   "outputs": [
    {
     "data": {
      "text/plain": [
       "array([[1, 2, 3],\n",
       "       [4, 5, 6],\n",
       "       [7, 8, 9]])"
      ]
     },
     "execution_count": 6,
     "metadata": {},
     "output_type": "execute_result"
    }
   ],
   "source": [
    "matrix"
   ]
  },
  {
   "attachments": {
    "sps.PNG": {
     "image/png": "[encoded data removed]"
    }
   },
   "cell_type": "markdown",
   "id": "11a3649d",
   "metadata": {},
   "source": [
    "![sps.PNG](attachment:sps.PNG)"
   ]
  },
  {
   "cell_type": "code",
   "execution_count": 8,
   "id": "d6aa9294",
   "metadata": {},
   "outputs": [
    {
     "name": "stdout",
     "output_type": "stream",
     "text": [
      "Entire row at index 2: [7 8 9]\n",
      "\n",
      "Entire column at index 3: \n",
      " [[2 3]\n",
      " [5 6]\n",
      " [8 9]]\n"
     ]
    }
   ],
   "source": [
    "print(\"Entire row at index 2:\", matrix[2])\n",
    "print(\"\\nEntire column at index 3: \\n\", matrix[:,1:])"
   ]
  },
  {
   "cell_type": "code",
   "execution_count": 14,
   "id": "abc8e467",
   "metadata": {},
   "outputs": [
    {
     "data": {
      "text/plain": [
       "array([[1, 2, 3],\n",
       "       [4, 5, 6],\n",
       "       [7, 8, 9]])"
      ]
     },
     "execution_count": 14,
     "metadata": {},
     "output_type": "execute_result"
    }
   ],
   "source": [
    "matrix"
   ]
  },
  {
   "attachments": {
    "omps.PNG": {
     "image/png": "[encoded data removed]"
    }
   },
   "cell_type": "markdown",
   "id": "0c4eb9d0",
   "metadata": {},
   "source": [
    "![omps.PNG](attachment:omps.PNG)"
   ]
  },
  {
   "cell_type": "code",
   "execution_count": 24,
   "id": "c489b314",
   "metadata": {},
   "outputs": [
    {
     "name": "stdout",
     "output_type": "stream",
     "text": [
      "\n",
      "subsetting sub-matrices\n",
      "--------------------\n",
      "[[6]]\n"
     ]
    }
   ],
   "source": [
    "print(\"\\nsubsetting sub-matrices\\n--------------------\")\n",
    "print(matrix[1:2,2:3])"
   ]
  },
  {
   "cell_type": "code",
   "execution_count": 25,
   "id": "cd6ff5cf",
   "metadata": {},
   "outputs": [
    {
     "data": {
      "text/plain": [
       "array([[1, 2, 3],\n",
       "       [4, 5, 6],\n",
       "       [7, 8, 9]])"
      ]
     },
     "execution_count": 25,
     "metadata": {},
     "output_type": "execute_result"
    }
   ],
   "source": [
    "matrix"
   ]
  },
  {
   "attachments": {
    "siirja.PNG": {
     "image/png": "[encoded data removed]"
    }
   },
   "cell_type": "markdown",
   "id": "636f5992",
   "metadata": {},
   "source": [
    "![siirja.PNG](attachment:siirja.PNG)"
   ]
  },
  {
   "cell_type": "code",
   "execution_count": 28,
   "id": "566c8b0d",
   "metadata": {},
   "outputs": [
    {
     "name": "stdout",
     "output_type": "stream",
     "text": [
      " [[2 3]\n",
      " [5 6]]\n"
     ]
    }
   ],
   "source": [
    "print(\"\",matrix[0:2,[1,2]])"
   ]
  },
  {
   "cell_type": "markdown",
   "id": "f1d5cc15",
   "metadata": {},
   "source": [
    "# Updating matrix"
   ]
  },
  {
   "cell_type": "code",
   "execution_count": 29,
   "id": "d0749ce2",
   "metadata": {},
   "outputs": [
    {
     "name": "stdout",
     "output_type": "stream",
     "text": [
      "Original Matric \n",
      "\n",
      " [[1 2 3]\n",
      " [4 5 6]\n",
      " [7 8 9]]\n"
     ]
    }
   ],
   "source": [
    "print ('Original Matric \\n\\n',matrix)"
   ]
  },
  {
   "cell_type": "code",
   "execution_count": 30,
   "id": "9a679d27",
   "metadata": {},
   "outputs": [
    {
     "name": "stdout",
     "output_type": "stream",
     "text": [
      "[[ 1 36  3]\n",
      " [ 4  5  6]\n",
      " [ 7  8  9]]\n"
     ]
    }
   ],
   "source": [
    "matrix[0,1] = 36\n",
    "print (matrix)"
   ]
  },
  {
   "cell_type": "code",
   "execution_count": 31,
   "id": "c3e27634",
   "metadata": {},
   "outputs": [
    {
     "name": "stdout",
     "output_type": "stream",
     "text": [
      "[[ 1 36  3]\n",
      " [93  5  6]\n",
      " [ 7  8  9]]\n"
     ]
    }
   ],
   "source": [
    "matrix[1,0] = 93\n",
    "print (matrix)"
   ]
  },
  {
   "cell_type": "markdown",
   "id": "2387e520",
   "metadata": {},
   "source": [
    "# Subseting"
   ]
  },
  {
   "cell_type": "code",
   "execution_count": 44,
   "id": "115e85ff",
   "metadata": {},
   "outputs": [
    {
     "name": "stdout",
     "output_type": "stream",
     "text": [
      "Matrix of random 2-digit numbers\n",
      "--------------------------------------\n",
      " [[70 13 94 24 74]\n",
      " [65 62 94 71 54]\n",
      " [54 54 24 74 73]]\n"
     ]
    }
   ],
   "source": [
    "matrix = np.array(randint(10,100,15)).reshape(3,5)\n",
    "\n",
    "print(\"Matrix of random 2-digit numbers\\n--------------------------------------\\n\",matrix)"
   ]
  },
  {
   "cell_type": "code",
   "execution_count": 48,
   "id": "04e8c01d",
   "metadata": {},
   "outputs": [
    {
     "data": {
      "text/plain": [
       "array([[ True, False,  True, False,  True],\n",
       "       [ True,  True,  True,  True,  True],\n",
       "       [ True,  True, False,  True,  True]])"
      ]
     },
     "execution_count": 48,
     "metadata": {},
     "output_type": "execute_result"
    }
   ],
   "source": [
    "matrix>50"
   ]
  },
  {
   "cell_type": "code",
   "execution_count": 47,
   "id": "9ef1bd61",
   "metadata": {},
   "outputs": [
    {
     "name": "stdout",
     "output_type": "stream",
     "text": [
      "Elements greater than 50\n",
      " [70 94 74 65 62 94 71 54 54 54 74 73]\n"
     ]
    }
   ],
   "source": [
    "print (\"Elements greater than 50\\n\", matrix[matrix>50])"
   ]
  },
  {
   "cell_type": "code",
   "execution_count": 50,
   "id": "b50a8d80",
   "metadata": {},
   "outputs": [
    {
     "data": {
      "text/plain": [
       "array('Pass', dtype='<U4')"
      ]
     },
     "execution_count": 50,
     "metadata": {},
     "output_type": "execute_result"
    }
   ],
   "source": [
    "# You can also use np.where to return some data based on condition\n",
    "marks = 70\n",
    "np.where(marks > 68, 'Pass', 'Fail')"
   ]
  },
  {
   "cell_type": "code",
   "execution_count": 51,
   "id": "fd69eac2",
   "metadata": {},
   "outputs": [
    {
     "name": "stdout",
     "output_type": "stream",
     "text": [
      "[  9  44  47  20  26   0  41   4  19  14  -9  18  -1  44   8  13  41  -9\n",
      "  36  30  33   4  37  40  38  31  32  43   3  29   3  42  25  22   6  47\n",
      "   5  49   2  33  -8  37  47  38  40  34  30  36  26  32  -3  20  26  15\n",
      "  28  30  -1  18  33  20  25  37   2  -6  -1  25  37  32  36  42  -2 -10\n",
      "  23 -10   5  10  22  43 -10   9  10  44  30  36  49  45   6  27  45  22\n",
      "   6   5  27  -7  47   0  41  -8  17  16]\n"
     ]
    },
    {
     "data": {
      "text/plain": [
       "98"
      ]
     },
     "execution_count": 51,
     "metadata": {},
     "output_type": "execute_result"
    }
   ],
   "source": [
    "# Check non zeros\n",
    "non_zero = randint(-10,50,100)\n",
    "print (non_zero)\n",
    "np.count_nonzero(non_zero)"
   ]
  },
  {
   "cell_type": "code",
   "execution_count": 52,
   "id": "3015ecc2",
   "metadata": {},
   "outputs": [
    {
     "name": "stdout",
     "output_type": "stream",
     "text": [
      "[[ 1  2  4 10]\n",
      " [ 2 15  8  9]\n",
      " [ 7 17  4 12]]\n"
     ]
    }
   ],
   "source": [
    "# Ravel or Flatten (this concept is used in deep learning for image processing)\n",
    "array = np.random.randint(0,20, size=(3, 4))\n",
    "print (array)"
   ]
  },
  {
   "cell_type": "code",
   "execution_count": 53,
   "id": "811d669e",
   "metadata": {},
   "outputs": [
    {
     "data": {
      "text/plain": [
       "array([ 1,  2,  4, 10,  2, 15,  8,  9,  7, 17,  4, 12])"
      ]
     },
     "execution_count": 53,
     "metadata": {},
     "output_type": "execute_result"
    }
   ],
   "source": [
    "array.ravel()"
   ]
  },
  {
   "cell_type": "code",
   "execution_count": 54,
   "id": "13e6c3a7",
   "metadata": {},
   "outputs": [
    {
     "data": {
      "text/plain": [
       "array([ 1,  2,  4, 10,  2, 15,  8,  9,  7, 17,  4, 12])"
      ]
     },
     "execution_count": 54,
     "metadata": {},
     "output_type": "execute_result"
    }
   ],
   "source": [
    "# Or flatten both are same\n",
    "array.flatten()"
   ]
  },
  {
   "cell_type": "markdown",
   "id": "8616c411",
   "metadata": {},
   "source": [
    "# Universal Function"
   ]
  },
  {
   "cell_type": "code",
   "execution_count": 55,
   "id": "5d6f31f6",
   "metadata": {},
   "outputs": [
    {
     "name": "stdout",
     "output_type": "stream",
     "text": [
      "\n",
      "1st Matrix of random single-digit numbers\n",
      "---------------------------\n",
      " [[4 5 7]\n",
      " [5 1 2]\n",
      " [9 6 5]]\n",
      "\n",
      "2nd Matrix of random single-digit numbers\n",
      "---------------------------\n",
      " [[6 5 4]\n",
      " [7 3 6]\n",
      " [3 2 8]]\n"
     ]
    }
   ],
   "source": [
    "matrix1 = np.array(randint(1,10,9)).reshape(3,3)\n",
    "\n",
    "matrix2 = np.array(randint(1,10,9)).reshape (3,3)\n",
    "\n",
    "print(\"\\n1st Matrix of random single-digit numbers\\n---------------------------\\n\",matrix1)\n",
    "print(\"\\n2nd Matrix of random single-digit numbers\\n---------------------------\\n\",matrix2)"
   ]
  },
  {
   "cell_type": "code",
   "execution_count": 56,
   "id": "2d09edd5",
   "metadata": {},
   "outputs": [
    {
     "name": "stdout",
     "output_type": "stream",
     "text": [
      "\n",
      "Addition\n",
      "-------------------\n",
      " [[10 10 11]\n",
      " [12  4  8]\n",
      " [12  8 13]]\n"
     ]
    }
   ],
   "source": [
    "print(\"\\nAddition\\n-------------------\\n\",     matrix1+matrix2)"
   ]
  },
  {
   "cell_type": "code",
   "execution_count": 57,
   "id": "1240b5c0",
   "metadata": {},
   "outputs": [
    {
     "name": "stdout",
     "output_type": "stream",
     "text": [
      "\n",
      "Multiplication\n",
      "-------------------\n",
      " [[24 25 28]\n",
      " [35  3 12]\n",
      " [27 12 40]]\n"
     ]
    }
   ],
   "source": [
    "print(\"\\nMultiplication\\n-------------------\\n\",    matrix1*matrix2)"
   ]
  },
  {
   "cell_type": "markdown",
   "id": "1b52f946",
   "metadata": {},
   "source": [
    "# Broadcasting"
   ]
  },
  {
   "cell_type": "code",
   "execution_count": 58,
   "id": "1b34a1cd",
   "metadata": {},
   "outputs": [],
   "source": [
    "#Numpy operations are usually done on pairs of arrays on an element-by-element basis.\n",
    "#In the simplest case, the two arrays must have exactly the same shape.\n",
    "#Numpy's broadcasting rule relaxes this constraint when the array's shapes meet certain contraints.\n",
    "#When operating on two arrays, Numpy compare their shapes element-wise. it starts with the trailing.\n",
    "#dimensions, and works its way forward. Two dimensions are compatible when they are equal, or one of them is 1"
   ]
  },
  {
   "cell_type": "code",
   "execution_count": 59,
   "id": "e35e97cc",
   "metadata": {},
   "outputs": [
    {
     "name": "stdout",
     "output_type": "stream",
     "text": [
      "[[0. 0. 0.]\n",
      " [0. 0. 0.]\n",
      " [0. 0. 0.]]\n"
     ]
    }
   ],
   "source": [
    "start = np.zeros((3,3))\n",
    "print(start)"
   ]
  },
  {
   "cell_type": "code",
   "execution_count": 60,
   "id": "f0da2c5f",
   "metadata": {},
   "outputs": [
    {
     "name": "stdout",
     "output_type": "stream",
     "text": [
      "[[1 0 2]]\n"
     ]
    }
   ],
   "source": [
    "# Create a rank 1 ndarray with 3 values\n",
    "add_rows = np.array([[1,0,2]])\n",
    "print(add_rows)"
   ]
  },
  {
   "cell_type": "code",
   "execution_count": 61,
   "id": "7bea69c3",
   "metadata": {},
   "outputs": [
    {
     "name": "stdout",
     "output_type": "stream",
     "text": [
      "[[1. 0. 2.]\n",
      " [1. 0. 2.]\n",
      " [1. 0. 2.]]\n"
     ]
    }
   ],
   "source": [
    "y = start + add_rows # add to each row of 'start' using broadcasting\n",
    "print(y)"
   ]
  },
  {
   "cell_type": "code",
   "execution_count": 64,
   "id": "28c10c3a",
   "metadata": {},
   "outputs": [
    {
     "data": {
      "text/plain": [
       "array([[1],\n",
       "       [0],\n",
       "       [2]])"
      ]
     },
     "execution_count": 64,
     "metadata": {},
     "output_type": "execute_result"
    }
   ],
   "source": [
    "new_row = add_rows.T\n",
    "new_row"
   ]
  },
  {
   "cell_type": "code",
   "execution_count": 65,
   "id": "63a65637",
   "metadata": {},
   "outputs": [
    {
     "name": "stdout",
     "output_type": "stream",
     "text": [
      "[[1. 1. 1.]\n",
      " [0. 0. 0.]\n",
      " [2. 2. 2.]]\n"
     ]
    }
   ],
   "source": [
    "test = new_row + start\n",
    "print (test)"
   ]
  }
 ],
 "metadata": {
  "kernelspec": {
   "display_name": "Python 3 (ipykernel)",
   "language": "python",
   "name": "python3"
  },
  "language_info": {
   "codemirror_mode": {
    "name": "ipython",
    "version": 3
   },
   "file_extension": ".py",
   "mimetype": "text/x-python",
   "name": "python",
   "nbconvert_exporter": "python",
   "pygments_lexer": "ipython3",
   "version": "3.9.12"
  }
 },
 "nbformat": 4,
 "nbformat_minor": 5
}
